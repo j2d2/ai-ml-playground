{
 "cells": [
  {
   "cell_type": "code",
   "execution_count": null,
   "id": "d5a3d26e",
   "metadata": {},
   "outputs": [],
   "source": [
    "#Please execute this notebook on the course python environment\n",
    "#This installs all the pre-requisities for the course\n",
    "\n",
    "# %pip will install the package in the virtual environment where the current notebook kernel is running. \n",
    "# While !pip will install the package in the base environment. \n",
    "# If you are using Python virtual environment (Anaconda), you should use %pip.\n",
    "\n",
    "%pip install tensorflow\n",
    "%pip install torch\n",
    "%pip install keras\n",
    "%pip install transformers\n",
    "%pip install datasets\n",
    "%pip install sentencepiece\n",
    "%pip install evaluate\n",
    "%pip install nltk\n",
    "%pip install rouge_score"
   ]
  },
  {
   "cell_type": "code",
   "execution_count": null,
   "id": "5728f87e",
   "metadata": {},
   "outputs": [],
   "source": []
  }
 ],
 "metadata": {
  "kernelspec": {
   "display_name": "Python 3 (ipykernel)",
   "language": "python",
   "name": "python3"
  },
  "language_info": {
   "codemirror_mode": {
    "name": "ipython",
    "version": 3
   },
   "file_extension": ".py",
   "mimetype": "text/x-python",
   "name": "python",
   "nbconvert_exporter": "python",
   "pygments_lexer": "ipython3",
   "version": "3.12.2"
  }
 },
 "nbformat": 4,
 "nbformat_minor": 5
}
