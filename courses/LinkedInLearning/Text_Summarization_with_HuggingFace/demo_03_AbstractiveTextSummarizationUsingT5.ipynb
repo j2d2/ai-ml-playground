{
 "cells": [
  {
   "cell_type": "markdown",
   "metadata": {},
   "source": [
    "# Text Summarization Course from LinkedIn Learning\n",
    "2024-04-11\n",
    "https://www.linkedin.com/learning/ai-text-summarization-with-hugging-face/extractive-text-summarization\n",
    "\n",
    "## Intent\n",
    "Task: Adapt this during...\n",
    "Hope: Use Stacks!\n",
    "\n",
    "## References\n",
    "\n",
    "- The Tasks site shows models, datasets and how to for each problem type: \n",
    "  https://huggingface.co/tasks/summarization\n",
    "  \n",
    "\n",
    "## Examples\n",
    "\n",
    "1. Extractive Text Summarization:\n",
    "   App: https://huggingface.co/spaces/issam9/sumy_space\n",
    "   GitHub: https://github.com/miso-belica/sumy\n",
    "\n",
    "2. Abstractive Text Summarization (NLP):\n",
    "   https://huggingface.co/facebook/bart-large-cnn\n",
    "   https://huggingface.co/google/pegasus-cnn_dailymail\n",
    "\n",
    "3. Sequence-to-sequence models\n",
    "   https://huggingface.co/google-t5/t5-small\n",
    "\n",
    "## Process for this Notebook\n",
    "\n",
    "1. Tutorial uses: https://colab.research.google.com but this now has a $/mo subscription and is no longer free..\n",
    "2. \n",
    "   \n",
    "\n",
    "\n"
   ]
  },
  {
   "cell_type": "markdown",
   "metadata": {
    "id": "G5Vq_BXB9bEr"
   },
   "source": [
    "## TODO Recording:\n",
    "\n",
    "- First go to HuggingFace\n",
    "- Under \"Models\" search for \"T5 small\" and show the model card page\n",
    "- Go to Colab and log in (cloud.user@)\n",
    "- Import this notebook from local machine\n",
    "- Go to runtime and show that we are using the TPU\n",
    "- After running pip install of libraries, please restart the kernel"
   ]
  },
  {
   "cell_type": "markdown",
   "metadata": {
    "id": "xrsDZMB0HiDb"
   },
   "source": [
    "Installing required huggingface libraries/modules"
   ]
  },
  {
   "cell_type": "code",
   "execution_count": 35,
   "metadata": {
    "colab": {
     "base_uri": "https://localhost:8080/"
    },
    "id": "t8B09G1QHpjY",
    "outputId": "5e779c04-5345-48ec-db97-95035abb53b3"
   },
   "outputs": [
    {
     "name": "stderr",
     "output_type": "stream",
     "text": [
      "huggingface/tokenizers: The current process just got forked, after parallelism has already been used. Disabling parallelism to avoid deadlocks...\n",
      "To disable this warning, you can either:\n",
      "\t- Avoid using `tokenizers` before the fork if possible\n",
      "\t- Explicitly set the environment variable TOKENIZERS_PARALLELISM=(true | false)\n"
     ]
    },
    {
     "name": "stdout",
     "output_type": "stream",
     "text": [
      "Requirement already satisfied: transformers in /opt/anaconda3/envs/sum/lib/python3.12/site-packages (4.39.3)\n",
      "Requirement already satisfied: datasets in /opt/anaconda3/envs/sum/lib/python3.12/site-packages (2.18.0)\n",
      "Requirement already satisfied: evaluate in /opt/anaconda3/envs/sum/lib/python3.12/site-packages (0.4.1)\n",
      "Requirement already satisfied: rouge_score in /opt/anaconda3/envs/sum/lib/python3.12/site-packages (0.1.2)\n",
      "Requirement already satisfied: accelerate in /opt/anaconda3/envs/sum/lib/python3.12/site-packages (0.29.2)\n",
      "Requirement already satisfied: filelock in /opt/anaconda3/envs/sum/lib/python3.12/site-packages (from transformers) (3.13.4)\n",
      "Requirement already satisfied: huggingface-hub<1.0,>=0.19.3 in /opt/anaconda3/envs/sum/lib/python3.12/site-packages (from transformers) (0.22.2)\n",
      "Requirement already satisfied: numpy>=1.17 in /opt/anaconda3/envs/sum/lib/python3.12/site-packages (from transformers) (1.26.4)\n",
      "Requirement already satisfied: packaging>=20.0 in /opt/anaconda3/envs/sum/lib/python3.12/site-packages (from transformers) (23.2)\n",
      "Requirement already satisfied: pyyaml>=5.1 in /opt/anaconda3/envs/sum/lib/python3.12/site-packages (from transformers) (6.0.1)\n",
      "Requirement already satisfied: regex!=2019.12.17 in /opt/anaconda3/envs/sum/lib/python3.12/site-packages (from transformers) (2023.12.25)\n",
      "Requirement already satisfied: requests in /opt/anaconda3/envs/sum/lib/python3.12/site-packages (from transformers) (2.31.0)\n",
      "Requirement already satisfied: tokenizers<0.19,>=0.14 in /opt/anaconda3/envs/sum/lib/python3.12/site-packages (from transformers) (0.15.2)\n",
      "Requirement already satisfied: safetensors>=0.4.1 in /opt/anaconda3/envs/sum/lib/python3.12/site-packages (from transformers) (0.4.2)\n",
      "Requirement already satisfied: tqdm>=4.27 in /opt/anaconda3/envs/sum/lib/python3.12/site-packages (from transformers) (4.66.2)\n",
      "Requirement already satisfied: pyarrow>=12.0.0 in /opt/anaconda3/envs/sum/lib/python3.12/site-packages (from datasets) (15.0.2)\n",
      "Requirement already satisfied: pyarrow-hotfix in /opt/anaconda3/envs/sum/lib/python3.12/site-packages (from datasets) (0.6)\n",
      "Requirement already satisfied: dill<0.3.9,>=0.3.0 in /opt/anaconda3/envs/sum/lib/python3.12/site-packages (from datasets) (0.3.8)\n",
      "Requirement already satisfied: pandas in /opt/anaconda3/envs/sum/lib/python3.12/site-packages (from datasets) (2.2.2)\n",
      "Requirement already satisfied: xxhash in /opt/anaconda3/envs/sum/lib/python3.12/site-packages (from datasets) (3.4.1)\n",
      "Requirement already satisfied: multiprocess in /opt/anaconda3/envs/sum/lib/python3.12/site-packages (from datasets) (0.70.16)\n",
      "Requirement already satisfied: fsspec<=2024.2.0,>=2023.1.0 in /opt/anaconda3/envs/sum/lib/python3.12/site-packages (from fsspec[http]<=2024.2.0,>=2023.1.0->datasets) (2024.2.0)\n",
      "Requirement already satisfied: aiohttp in /opt/anaconda3/envs/sum/lib/python3.12/site-packages (from datasets) (3.9.4)\n",
      "Requirement already satisfied: responses<0.19 in /opt/anaconda3/envs/sum/lib/python3.12/site-packages (from evaluate) (0.18.0)\n",
      "Requirement already satisfied: absl-py in /opt/anaconda3/envs/sum/lib/python3.12/site-packages (from rouge_score) (2.1.0)\n",
      "Requirement already satisfied: nltk in /opt/anaconda3/envs/sum/lib/python3.12/site-packages (from rouge_score) (3.8.1)\n",
      "Requirement already satisfied: six>=1.14.0 in /opt/anaconda3/envs/sum/lib/python3.12/site-packages (from rouge_score) (1.16.0)\n",
      "Requirement already satisfied: psutil in /opt/anaconda3/envs/sum/lib/python3.12/site-packages (from accelerate) (5.9.0)\n",
      "Requirement already satisfied: torch>=1.10.0 in /opt/anaconda3/envs/sum/lib/python3.12/site-packages (from accelerate) (2.2.2)\n",
      "Requirement already satisfied: aiosignal>=1.1.2 in /opt/anaconda3/envs/sum/lib/python3.12/site-packages (from aiohttp->datasets) (1.3.1)\n",
      "Requirement already satisfied: attrs>=17.3.0 in /opt/anaconda3/envs/sum/lib/python3.12/site-packages (from aiohttp->datasets) (23.1.0)\n",
      "Requirement already satisfied: frozenlist>=1.1.1 in /opt/anaconda3/envs/sum/lib/python3.12/site-packages (from aiohttp->datasets) (1.4.1)\n",
      "Requirement already satisfied: multidict<7.0,>=4.5 in /opt/anaconda3/envs/sum/lib/python3.12/site-packages (from aiohttp->datasets) (6.0.5)\n",
      "Requirement already satisfied: yarl<2.0,>=1.0 in /opt/anaconda3/envs/sum/lib/python3.12/site-packages (from aiohttp->datasets) (1.9.4)\n",
      "Requirement already satisfied: typing-extensions>=3.7.4.3 in /opt/anaconda3/envs/sum/lib/python3.12/site-packages (from huggingface-hub<1.0,>=0.19.3->transformers) (4.9.0)\n",
      "Requirement already satisfied: charset-normalizer<4,>=2 in /opt/anaconda3/envs/sum/lib/python3.12/site-packages (from requests->transformers) (2.0.4)\n",
      "Requirement already satisfied: idna<4,>=2.5 in /opt/anaconda3/envs/sum/lib/python3.12/site-packages (from requests->transformers) (3.4)\n",
      "Requirement already satisfied: urllib3<3,>=1.21.1 in /opt/anaconda3/envs/sum/lib/python3.12/site-packages (from requests->transformers) (2.1.0)\n",
      "Requirement already satisfied: certifi>=2017.4.17 in /opt/anaconda3/envs/sum/lib/python3.12/site-packages (from requests->transformers) (2024.2.2)\n",
      "Requirement already satisfied: sympy in /opt/anaconda3/envs/sum/lib/python3.12/site-packages (from torch>=1.10.0->accelerate) (1.12)\n",
      "Requirement already satisfied: networkx in /opt/anaconda3/envs/sum/lib/python3.12/site-packages (from torch>=1.10.0->accelerate) (3.3)\n",
      "Requirement already satisfied: jinja2 in /opt/anaconda3/envs/sum/lib/python3.12/site-packages (from torch>=1.10.0->accelerate) (3.1.3)\n",
      "Requirement already satisfied: click in /opt/anaconda3/envs/sum/lib/python3.12/site-packages (from nltk->rouge_score) (8.1.7)\n",
      "Requirement already satisfied: joblib in /opt/anaconda3/envs/sum/lib/python3.12/site-packages (from nltk->rouge_score) (1.4.0)\n",
      "Requirement already satisfied: python-dateutil>=2.8.2 in /opt/anaconda3/envs/sum/lib/python3.12/site-packages (from pandas->datasets) (2.8.2)\n",
      "Requirement already satisfied: pytz>=2020.1 in /opt/anaconda3/envs/sum/lib/python3.12/site-packages (from pandas->datasets) (2023.3.post1)\n",
      "Requirement already satisfied: tzdata>=2022.7 in /opt/anaconda3/envs/sum/lib/python3.12/site-packages (from pandas->datasets) (2024.1)\n",
      "Requirement already satisfied: MarkupSafe>=2.0 in /opt/anaconda3/envs/sum/lib/python3.12/site-packages (from jinja2->torch>=1.10.0->accelerate) (2.1.3)\n",
      "Requirement already satisfied: mpmath>=0.19 in /opt/anaconda3/envs/sum/lib/python3.12/site-packages (from sympy->torch>=1.10.0->accelerate) (1.3.0)\n",
      "Note: you may need to restart the kernel to use updated packages.\n"
     ]
    }
   ],
   "source": [
    "pip install transformers datasets evaluate rouge_score accelerate"
   ]
  },
  {
   "cell_type": "markdown",
   "metadata": {
    "id": "EZjYfHI-04vs"
   },
   "source": [
    "> After the above, you will need to Kernal -> Restart Kernal to use updated packages.\n",
    "\n",
    "Checking transformers version\n",
    "\n",
    "> Note: if you see an error here \"IProgress not found. Please update jupyter and ipywidgets\", you might need to:\n",
    "> `conda install -c conda-forge ipywidgets`"
   ]
  },
  {
   "cell_type": "code",
   "execution_count": 36,
   "metadata": {
    "colab": {
     "base_uri": "https://localhost:8080/",
     "height": 35
    },
    "id": "c6qVtimZhBFd",
    "outputId": "bb7c0bb1-da59-448a-a59f-1f26669becf4"
   },
   "outputs": [
    {
     "data": {
      "text/plain": [
       "'4.39.3'"
      ]
     },
     "execution_count": 36,
     "metadata": {},
     "output_type": "execute_result"
    }
   ],
   "source": [
    "import transformers\n",
    "\n",
    "transformers.__version__"
   ]
  },
  {
   "cell_type": "markdown",
   "metadata": {
    "id": "PUIo_Qz41cgA"
   },
   "source": [
    "## TODO Recording\n",
    "\n",
    "- Go to the HuggingFace site\n",
    "- Click on the Account on the top right -> Profile -> Settings -> Access Tokens\n",
    "- Generate a new token and copy it\n",
    "- Then run the cell below\n",
    "\n",
    "> Note: this code will associate this Notebook with your HuggingFace account (Open Source Contrib)"
   ]
  },
  {
   "cell_type": "code",
   "execution_count": 37,
   "metadata": {
    "colab": {
     "base_uri": "https://localhost:8080/",
     "height": 145,
     "referenced_widgets": [
      "6f24c13c427046ce81fa8be1342664a1",
      "9ffa53725dfb4bff83eb218b87d461f6",
      "6c7663abdac143fa8ad88831a630ef16",
      "e95f003abd2f41e3be0a8584a45c02b4",
      "7cd07d2fb63145d6a3a7d6dca812bd1c",
      "c26acfececb642c3b20b18588e1e9e98",
      "11fa045f55a24c0aa081aad9ee0c0203",
      "9f5739adee3c43f482ea5372c37fbc0a",
      "90ccca0eeff44937a4eccdad75dc14d1",
      "2d5e5ea1a7634954a023e334a4a7f978",
      "7a92bb19000145aa914b438c73bd34fb",
      "c9b069884e05420a8c5e7db7ccc6660a",
      "dfb867662b3245278392077ac8edf794",
      "880de9aeaf3848238fa8131402fa5e20",
      "688b571fbe5f419b82958aba4ce34176",
      "a2eeb2b3f0094c30b872e6f2e8393c0f",
      "aca97c621faf439e95d6d9bb4b4abc24",
      "3f8bff2626e1406a8069f601eabfd1fe",
      "da53691af9564e0ebe53396496debc15",
      "9c10f4cfbf0a4e5a822f46f009e1a975",
      "3f5fd852a1824d0dbe794edd40cab88d",
      "10fc9193e7a54a24bb7269721e2dfe0d",
      "a139ebe590c14d9d91603812ee1719fb",
      "261efa9405cf463492a781c608535a16",
      "d996bd3145524ded8b189f3d918d3173",
      "5038b99cba7b4bac96c29c1a21eb4724",
      "87ae2f5de1334a778678c1e77767b2ff",
      "f927c1535da0473da9c623de09e46b68",
      "b0574c3cba744e5eae1ae83db0f41bde",
      "9283d49cda014c1c972368308bd55bb8",
      "b441841d4e8b4b0fae94eedd10bbdb1c",
      "9eea6b6d45b8432bb6f2f051d5fa4c84"
     ]
    },
    "id": "JK75VXu1HiDh",
    "outputId": "ad60dca9-af6f-49f9-b282-bc9a8223049d"
   },
   "outputs": [],
   "source": [
    "# from huggingface_hub import notebook_login\n",
    "\n",
    "# notebook_login()"
   ]
  },
  {
   "cell_type": "markdown",
   "metadata": {
    "id": "8Z96vGDD27aC"
   },
   "source": [
    "https://huggingface.co/docs/datasets/v1.2.0/loading_datasets.html\n",
    "Checking all datasets available in huggingface hub"
   ]
  },
  {
   "cell_type": "code",
   "execution_count": 38,
   "metadata": {
    "colab": {
     "base_uri": "https://localhost:8080/"
    },
    "id": "D1zu4SEHgTPP",
    "outputId": "b90a9dce-fe0e-4fa8-a0da-057c2736c74d"
   },
   "outputs": [
    {
     "name": "stdout",
     "output_type": "stream",
     "text": [
      "DatasetInfo(id='acronym_identification', author=None, sha='15ef643450d589d5883e289ffadeb03563e80a9e', created_at=datetime.datetime(2022, 3, 2, 23, 29, 22, tzinfo=datetime.timezone.utc), last_modified=datetime.datetime(2024, 1, 9, 11, 39, 57, tzinfo=datetime.timezone.utc), private=False, gated=False, disabled=False, downloads=765, likes=18, paperswithcode_id='acronym-identification', tags=['task_categories:token-classification', 'annotations_creators:expert-generated', 'language_creators:found', 'multilinguality:monolingual', 'size_categories:10K<n<100K', 'source_datasets:original', 'language:en', 'license:mit', 'acronym-identification', 'croissant', 'arxiv:2010.14678', 'region:us'], card_data=None, siblings=None)\n",
      "DatasetInfo(id='ade_corpus_v2', author=None, sha='4ba01c71687dd7c996597042449448ea312126cf', created_at=datetime.datetime(2022, 3, 2, 23, 29, 22, tzinfo=datetime.timezone.utc), last_modified=datetime.datetime(2024, 1, 9, 11, 42, 58, tzinfo=datetime.timezone.utc), private=False, gated=False, disabled=False, downloads=1892, likes=23, paperswithcode_id=None, tags=['task_categories:text-classification', 'task_categories:token-classification', 'task_ids:coreference-resolution', 'task_ids:fact-checking', 'annotations_creators:expert-generated', 'language_creators:found', 'multilinguality:monolingual', 'size_categories:10K<n<100K', 'size_categories:1K<n<10K', 'size_categories:n<1K', 'source_datasets:original', 'language:en', 'license:unknown', 'croissant', 'region:us'], card_data=None, siblings=None)\n",
      "DatasetInfo(id='UCLNLP/adversarial_qa', author='UCLNLP', sha='c2d5f738db1ad21a4126a144dfbb00cb51e0a4a9', created_at=datetime.datetime(2022, 3, 2, 23, 29, 22, tzinfo=datetime.timezone.utc), last_modified=datetime.datetime(2023, 12, 21, 14, 20, tzinfo=datetime.timezone.utc), private=False, gated=False, disabled=False, downloads=446, likes=32, paperswithcode_id='adversarialqa', tags=['task_categories:question-answering', 'task_ids:extractive-qa', 'task_ids:open-domain-qa', 'annotations_creators:crowdsourced', 'language_creators:found', 'multilinguality:monolingual', 'size_categories:10K<n<100K', 'source_datasets:original', 'language:en', 'license:cc-by-sa-4.0', 'croissant', 'arxiv:2002.00293', 'arxiv:1606.05250', 'region:us'], card_data=None, siblings=None)\n",
      "DatasetInfo(id='aeslc', author=None, sha='2305f2e63b68056f9b9037a3805c8c196e0d5581', created_at=datetime.datetime(2022, 3, 2, 23, 29, 22, tzinfo=datetime.timezone.utc), last_modified=datetime.datetime(2024, 1, 9, 11, 49, 13, tzinfo=datetime.timezone.utc), private=False, gated=False, disabled=False, downloads=3376, likes=10, paperswithcode_id='aeslc', tags=['task_categories:summarization', 'annotations_creators:crowdsourced', 'language_creators:found', 'multilinguality:monolingual', 'size_categories:10K<n<100K', 'source_datasets:original', 'language:en', 'license:unknown', 'aspect-based-summarization', 'conversations-summarization', 'multi-document-summarization', 'email-headline-generation', 'croissant', 'arxiv:1906.03497', 'region:us'], card_data=None, siblings=None)\n",
      "DatasetInfo(id='afrikaans_ner_corpus', author=None, sha='445834a997dce8b40e1d108638064381de80c497', created_at=datetime.datetime(2022, 3, 2, 23, 29, 22, tzinfo=datetime.timezone.utc), last_modified=datetime.datetime(2024, 1, 9, 11, 51, 47, tzinfo=datetime.timezone.utc), private=False, gated=False, disabled=False, downloads=351, likes=4, paperswithcode_id=None, tags=['task_categories:token-classification', 'task_ids:named-entity-recognition', 'annotations_creators:expert-generated', 'language_creators:expert-generated', 'multilinguality:monolingual', 'size_categories:1K<n<10K', 'source_datasets:original', 'language:af', 'license:other', 'croissant', 'region:us'], card_data=None, siblings=None)\n",
      "DatasetInfo(id='ag_news', author=None, sha='eb185aade064a813bc0b7f42de02595523103ca4', created_at=datetime.datetime(2022, 3, 2, 23, 29, 22, tzinfo=datetime.timezone.utc), last_modified=datetime.datetime(2024, 3, 7, 12, 2, 37, tzinfo=datetime.timezone.utc), private=False, gated=False, disabled=False, downloads=47277, likes=105, paperswithcode_id='ag-news', tags=['task_categories:text-classification', 'task_ids:topic-classification', 'annotations_creators:found', 'language_creators:found', 'multilinguality:monolingual', 'size_categories:100K<n<1M', 'source_datasets:original', 'language:en', 'license:unknown', 'croissant', 'region:us'], card_data=None, siblings=None)\n",
      "DatasetInfo(id='allenai/ai2_arc', author='allenai', sha='210d026faf9955653af8916fad021475a3f00453', created_at=datetime.datetime(2022, 3, 2, 23, 29, 22, tzinfo=datetime.timezone.utc), last_modified=datetime.datetime(2023, 12, 21, 15, 9, 48, tzinfo=datetime.timezone.utc), private=False, gated=False, disabled=False, downloads=161222, likes=77, paperswithcode_id=None, tags=['task_categories:question-answering', 'task_ids:open-domain-qa', 'task_ids:multiple-choice-qa', 'annotations_creators:found', 'language_creators:found', 'multilinguality:monolingual', 'size_categories:1K<n<10K', 'source_datasets:original', 'language:en', 'license:cc-by-sa-4.0', 'croissant', 'arxiv:1803.05457', 'region:us'], card_data=None, siblings=None)\n",
      "DatasetInfo(id='air_dialogue', author=None, sha='dbdbe7bcef8d344bc3c68a05600f3d95917d6898', created_at=datetime.datetime(2022, 3, 2, 23, 29, 22, tzinfo=datetime.timezone.utc), last_modified=datetime.datetime(2024, 3, 7, 15, 22, 15, tzinfo=datetime.timezone.utc), private=False, gated=False, disabled=False, downloads=348, likes=7, paperswithcode_id=None, tags=['task_categories:text-generation', 'task_categories:fill-mask', 'task_ids:conversational', 'task_ids:dialogue-generation', 'task_ids:dialogue-modeling', 'task_ids:language-modeling', 'task_ids:masked-language-modeling', 'annotations_creators:crowdsourced', 'language_creators:machine-generated', 'multilinguality:monolingual', 'size_categories:100K<n<1M', 'source_datasets:original', 'language:en', 'license:cc-by-nc-4.0', 'croissant', 'region:us'], card_data=None, siblings=None)\n",
      "DatasetInfo(id='ajgt_twitter_ar', author=None, sha='af3f2fa5462ac461b696cb300d66e07ad366057f', created_at=datetime.datetime(2022, 3, 2, 23, 29, 22, tzinfo=datetime.timezone.utc), last_modified=datetime.datetime(2024, 1, 9, 11, 58, 1, tzinfo=datetime.timezone.utc), private=False, gated=False, disabled=False, downloads=308, likes=3, paperswithcode_id=None, tags=['task_categories:text-classification', 'task_ids:sentiment-classification', 'annotations_creators:found', 'language_creators:found', 'multilinguality:monolingual', 'size_categories:1K<n<10K', 'source_datasets:original', 'language:ar', 'license:unknown', 'croissant', 'region:us'], card_data=None, siblings=None)\n",
      "DatasetInfo(id='allegro_reviews', author=None, sha='71593d1379934286885c53d147bc863ffe830745', created_at=datetime.datetime(2022, 3, 2, 23, 29, 22, tzinfo=datetime.timezone.utc), last_modified=datetime.datetime(2024, 1, 9, 11, 59, 39, tzinfo=datetime.timezone.utc), private=False, gated=False, disabled=False, downloads=313, likes=2, paperswithcode_id='allegro-reviews', tags=['task_categories:text-classification', 'task_ids:sentiment-scoring', 'task_ids:text-scoring', 'annotations_creators:found', 'language_creators:found', 'multilinguality:monolingual', 'size_categories:10K<n<100K', 'source_datasets:original', 'language:pl', 'license:cc-by-sa-4.0', 'croissant', 'region:us'], card_data=None, siblings=None)\n",
      "DatasetInfo(id='allocine', author=None, sha='a4654f4896408912913a62ace89614879a549287', created_at=datetime.datetime(2022, 3, 2, 23, 29, 22, tzinfo=datetime.timezone.utc), last_modified=datetime.datetime(2024, 1, 9, 12, 2, 24, tzinfo=datetime.timezone.utc), private=False, gated=False, disabled=False, downloads=931, likes=7, paperswithcode_id='allocine', tags=['task_categories:text-classification', 'task_ids:sentiment-classification', 'annotations_creators:no-annotation', 'language_creators:found', 'multilinguality:monolingual', 'size_categories:100K<n<1M', 'source_datasets:original', 'language:fr', 'license:mit', 'croissant', 'region:us'], card_data=None, siblings=None)\n",
      "DatasetInfo(id='alt', author=None, sha='afbd92e198bbcf17f660e03076fd2938f5a4bbb2', created_at=datetime.datetime(2022, 3, 2, 23, 29, 22, tzinfo=datetime.timezone.utc), last_modified=datetime.datetime(2024, 1, 9, 12, 7, 24, tzinfo=datetime.timezone.utc), private=False, gated=False, disabled=False, downloads=1298, likes=10, paperswithcode_id='alt', tags=['task_categories:translation', 'task_categories:token-classification', 'task_ids:parsing', 'annotations_creators:expert-generated', 'language_creators:crowdsourced', 'multilinguality:multilingual', 'multilinguality:translation', 'size_categories:100K<n<1M', 'size_categories:10K<n<100K', 'source_datasets:original', 'language:bn', 'language:en', 'language:fil', 'language:hi', 'language:id', 'language:ja', 'language:km', 'language:lo', 'language:ms', 'language:my', 'language:th', 'language:vi', 'language:zh', 'license:cc-by-4.0', 'croissant', 'region:us'], card_data=None, siblings=None)\n"
     ]
    }
   ],
   "source": [
    "from huggingface_hub import list_datasets\n",
    "\n",
    "datasets_list = list_datasets()\n",
    "\n",
    "num = 0\n",
    "for dataset in datasets_list:\n",
    "  print(dataset)\n",
    "\n",
    "  if (num > 10):\n",
    "    break\n",
    "\n",
    "  num += 1"
   ]
  },
  {
   "cell_type": "markdown",
   "metadata": {
    "id": "uB4iL8Ftvd28"
   },
   "source": [
    "Loading cnn daily mail dataset"
   ]
  },
  {
   "cell_type": "code",
   "execution_count": 43,
   "metadata": {
    "colab": {
     "base_uri": "https://localhost:8080/"
    },
    "id": "DEI4HAA333n4",
    "outputId": "3ea3dae2-5e5e-4cb4-918e-1e34030e5bce"
   },
   "outputs": [
    {
     "data": {
      "text/plain": [
       "DatasetDict({\n",
       "    train: Dataset({\n",
       "        features: ['article', 'highlights', 'id'],\n",
       "        num_rows: 287113\n",
       "    })\n",
       "    validation: Dataset({\n",
       "        features: ['article', 'highlights', 'id'],\n",
       "        num_rows: 13368\n",
       "    })\n",
       "    test: Dataset({\n",
       "        features: ['article', 'highlights', 'id'],\n",
       "        num_rows: 11490\n",
       "    })\n",
       "})"
      ]
     },
     "execution_count": 43,
     "metadata": {},
     "output_type": "execute_result"
    }
   ],
   "source": [
    "from datasets import load_dataset\n",
    "\n",
    "cnn_news_summary_ds = load_dataset(\"cnn_dailymail\", \"3.0.0\")\n",
    "\n",
    "cnn_news_summary_ds"
   ]
  },
  {
   "cell_type": "markdown",
   "metadata": {
    "id": "vPgEu8Zu68ZG"
   },
   "source": [
    "Dataset dictionary can be seen. As the dataset is quite large, we would be taking a subset of training data only."
   ]
  },
  {
   "cell_type": "code",
   "execution_count": 44,
   "metadata": {
    "colab": {
     "base_uri": "https://localhost:8080/"
    },
    "id": "iDRAgEWP7Zxh",
    "outputId": "344bd87c-c12e-4ca3-8e0e-00b948767e11"
   },
   "outputs": [
    {
     "data": {
      "text/plain": [
       "Dataset({\n",
       "    features: ['article', 'highlights', 'id'],\n",
       "    num_rows: 8613\n",
       "})"
      ]
     },
     "execution_count": 44,
     "metadata": {},
     "output_type": "execute_result"
    }
   ],
   "source": [
    "cnn_news_summary_ds = load_dataset(\"cnn_dailymail\", \"3.0.0\", split = \"train[:3%]\")\n",
    "\n",
    "cnn_news_summary_ds"
   ]
  },
  {
   "cell_type": "markdown",
   "metadata": {
    "id": "PGjiZGy79-tv"
   },
   "source": [
    "Subset data's dimensions can be checked"
   ]
  },
  {
   "cell_type": "code",
   "execution_count": 45,
   "metadata": {
    "colab": {
     "base_uri": "https://localhost:8080/"
    },
    "id": "qJjt6hQLvKFt",
    "outputId": "ace612c1-25b3-458e-f7b6-50ae42b9af45"
   },
   "outputs": [
    {
     "data": {
      "text/plain": [
       "(8613, 3)"
      ]
     },
     "execution_count": 45,
     "metadata": {},
     "output_type": "execute_result"
    }
   ],
   "source": [
    "cnn_news_summary_ds.shape"
   ]
  },
  {
   "cell_type": "markdown",
   "metadata": {
    "id": "IyL6MAVL-W-l"
   },
   "source": [
    "dataset description, features, homepage can be obtained\n",
    "https://huggingface.co/docs/datasets/v1.2.0/exploring.html"
   ]
  },
  {
   "cell_type": "code",
   "execution_count": 46,
   "metadata": {
    "colab": {
     "base_uri": "https://localhost:8080/"
    },
    "id": "Sgy-X7dZ-gvp",
    "outputId": "91c7a17a-0383-4ec8-d5e0-b03fea040b29"
   },
   "outputs": [
    {
     "name": "stdout",
     "output_type": "stream",
     "text": [
      "\n"
     ]
    }
   ],
   "source": [
    "print(cnn_news_summary_ds.description)"
   ]
  },
  {
   "cell_type": "code",
   "execution_count": 47,
   "metadata": {
    "colab": {
     "base_uri": "https://localhost:8080/"
    },
    "id": "yp-o9KVV89vN",
    "outputId": "71e7cda5-137a-4715-cca3-2efb11e3e0ad"
   },
   "outputs": [
    {
     "data": {
      "text/plain": [
       "{'article': Value(dtype='string', id=None),\n",
       " 'highlights': Value(dtype='string', id=None),\n",
       " 'id': Value(dtype='string', id=None)}"
      ]
     },
     "execution_count": 47,
     "metadata": {},
     "output_type": "execute_result"
    }
   ],
   "source": [
    "cnn_news_summary_ds.features"
   ]
  },
  {
   "cell_type": "code",
   "execution_count": 48,
   "metadata": {
    "colab": {
     "base_uri": "https://localhost:8080/",
     "height": 35
    },
    "id": "S3qjG_Vp9azB",
    "outputId": "936c25b6-8b58-4c95-f224-1bd99ad1fddc"
   },
   "outputs": [
    {
     "data": {
      "text/plain": [
       "''"
      ]
     },
     "execution_count": 48,
     "metadata": {},
     "output_type": "execute_result"
    }
   ],
   "source": [
    "cnn_news_summary_ds.homepage"
   ]
  },
  {
   "cell_type": "markdown",
   "metadata": {
    "id": "yVIKcsi1-t6E"
   },
   "source": [
    "One row of example can be obtained"
   ]
  },
  {
   "cell_type": "code",
   "execution_count": 49,
   "metadata": {
    "colab": {
     "base_uri": "https://localhost:8080/"
    },
    "id": "fjV0uQT6vYCI",
    "outputId": "047c8ef4-5335-4dd0-cc86-a0dbc19e2509"
   },
   "outputs": [
    {
     "data": {
      "text/plain": [
       "{'article': 'LONDON, England (Reuters) -- Harry Potter star Daniel Radcliffe gains access to a reported £20 million ($41.1 million) fortune as he turns 18 on Monday, but he insists the money won\\'t cast a spell on him. Daniel Radcliffe as Harry Potter in \"Harry Potter and the Order of the Phoenix\" To the disappointment of gossip columnists around the world, the young actor says he has no plans to fritter his cash away on fast cars, drink and celebrity parties. \"I don\\'t plan to be one of those people who, as soon as they turn 18, suddenly buy themselves a massive sports car collection or something similar,\" he told an Australian interviewer earlier this month. \"I don\\'t think I\\'ll be particularly extravagant. \"The things I like buying are things that cost about 10 pounds -- books and CDs and DVDs.\" At 18, Radcliffe will be able to gamble in a casino, buy a drink in a pub or see the horror film \"Hostel: Part II,\" currently six places below his number one movie on the UK box office chart. Details of how he\\'ll mark his landmark birthday are under wraps. His agent and publicist had no comment on his plans. \"I\\'ll definitely have some sort of party,\" he said in an interview. \"Hopefully none of you will be reading about it.\" Radcliffe\\'s earnings from the first five Potter films have been held in a trust fund which he has not been able to touch. Despite his growing fame and riches, the actor says he is keeping his feet firmly on the ground. \"People are always looking to say \\'kid star goes off the rails,\\'\" he told reporters last month. \"But I try very hard not to go that way because it would be too easy for them.\" His latest outing as the boy wizard in \"Harry Potter and the Order of the Phoenix\" is breaking records on both sides of the Atlantic and he will reprise the role in the last two films.  Watch I-Reporter give her review of Potter\\'s latest » . There is life beyond Potter, however. The Londoner has filmed a TV movie called \"My Boy Jack,\" about author Rudyard Kipling and his son, due for release later this year. He will also appear in \"December Boys,\" an Australian film about four boys who escape an orphanage. Earlier this year, he made his stage debut playing a tortured teenager in Peter Shaffer\\'s \"Equus.\" Meanwhile, he is braced for even closer media scrutiny now that he\\'s legally an adult: \"I just think I\\'m going to be more sort of fair game,\" he told Reuters. E-mail to a friend . Copyright 2007 Reuters. All rights reserved.This material may not be published, broadcast, rewritten, or redistributed.',\n",
       " 'highlights': \"Harry Potter star Daniel Radcliffe gets £20M fortune as he turns 18 Monday .\\nYoung actor says he has no plans to fritter his cash away .\\nRadcliffe's earnings from first five Potter films have been held in trust fund .\",\n",
       " 'id': '42c027e4ff9730fbb3de84c1af0d2c506e41c3e4'}"
      ]
     },
     "execution_count": 49,
     "metadata": {},
     "output_type": "execute_result"
    }
   ],
   "source": [
    "cnn_news_summary_ds[0]"
   ]
  },
  {
   "cell_type": "markdown",
   "metadata": {
    "id": "W0Yf6W6KxC-V"
   },
   "source": [
    "Dataset is split into train and test sets"
   ]
  },
  {
   "cell_type": "code",
   "execution_count": 50,
   "metadata": {
    "colab": {
     "base_uri": "https://localhost:8080/"
    },
    "id": "V9ydpvCEMukh",
    "outputId": "dab7bb39-c7c0-4ec9-9fcc-60764efb8aa0"
   },
   "outputs": [
    {
     "data": {
      "text/plain": [
       "DatasetDict({\n",
       "    train: Dataset({\n",
       "        features: ['article', 'highlights', 'id'],\n",
       "        num_rows: 6890\n",
       "    })\n",
       "    test: Dataset({\n",
       "        features: ['article', 'highlights', 'id'],\n",
       "        num_rows: 1723\n",
       "    })\n",
       "})"
      ]
     },
     "execution_count": 50,
     "metadata": {},
     "output_type": "execute_result"
    }
   ],
   "source": [
    "cnn_news_summary_ds = cnn_news_summary_ds.train_test_split(test_size = 0.2, seed = 42)\n",
    "\n",
    "cnn_news_summary_ds"
   ]
  },
  {
   "cell_type": "markdown",
   "metadata": {
    "id": "PGPYPaoLt7hV"
   },
   "source": [
    "Text cleaning function is defined"
   ]
  },
  {
   "cell_type": "code",
   "execution_count": 51,
   "metadata": {
    "id": "4sRkNvNA0Qqh"
   },
   "outputs": [],
   "source": [
    "def clean_txt(example):\n",
    "    for txt in [\"article\", \"highlights\"]:\n",
    "       example[txt]  = example[txt].lower()\n",
    "       example[txt]  = example[txt].replace(\"\\\\\", \"\")\n",
    "       example[txt]  = example[txt].replace(\"/\", \"\")\n",
    "       example[txt]  = example[txt].replace(\"\\n\", \"\")\n",
    "       example[txt]  = example[txt].replace(\"``\", \"\")\n",
    "       example[txt]  = example[txt].replace('\"', '')\n",
    "       example[txt]  = example[txt].replace(\"--\", \"\")\n",
    "\n",
    "    return example\n"
   ]
  },
  {
   "cell_type": "markdown",
   "metadata": {
    "id": "Am4yEP_DuACT"
   },
   "source": [
    "Both train and test sets are cleaned using 'map' method"
   ]
  },
  {
   "cell_type": "code",
   "execution_count": 52,
   "metadata": {
    "colab": {
     "base_uri": "https://localhost:8080/"
    },
    "id": "cuWs0JPonSfC",
    "outputId": "d6da7136-da00-4319-8673-4c52d55d99b2"
   },
   "outputs": [
    {
     "data": {
      "text/plain": [
       "DatasetDict({\n",
       "    train: Dataset({\n",
       "        features: ['article', 'highlights', 'id'],\n",
       "        num_rows: 6890\n",
       "    })\n",
       "    test: Dataset({\n",
       "        features: ['article', 'highlights', 'id'],\n",
       "        num_rows: 1723\n",
       "    })\n",
       "})"
      ]
     },
     "execution_count": 52,
     "metadata": {},
     "output_type": "execute_result"
    }
   ],
   "source": [
    "cleaned_cnn_news_summary_ds = cnn_news_summary_ds.map(clean_txt)\n",
    "\n",
    "cleaned_cnn_news_summary_ds"
   ]
  },
  {
   "cell_type": "markdown",
   "metadata": {
    "id": "wFT5o8wuuPRt"
   },
   "source": [
    "Taking a look at a raw example"
   ]
  },
  {
   "cell_type": "code",
   "execution_count": 53,
   "metadata": {
    "colab": {
     "base_uri": "https://localhost:8080/",
     "height": 105
    },
    "id": "IUfC2Vz5BJHh",
    "outputId": "9e5f9163-8c1c-45df-ebff-11b6b33ace65"
   },
   "outputs": [
    {
     "data": {
      "text/plain": [
       "'(CNN)  -- Four-time defending champion Rafael Nadal slid to an astonishing 6-2 6-7 6-4 7-6 defeat to Sweden\\'s Robin Soderling at the French Open on Sunday. Soderling savors his unlikely triumph against Nadal in the French Open fourth round. Soderling, the 23rd seed, was a rank outsider against the world number one who had never lost a match on the clay at Roland Garros and was a short-priced favorite to win a record fifth straight title. But Soderling never looked back after breezing through the first set of their fourth round match and closed out victory as Nadal sent a volley wide after bravely saving a matchpoint in the fourth set tiebreak. The Spaniard tried to look on the positives after his shock defeat. \"It\\'s not a tragedy, losing here in Paris,\" he told the official tournament Web site www.rolandgarros.com . \"It had to happen one day, and this is an excellent season for me. \"Of course it\\'s a bit sad, but I have to overcome this as quickly as possible. No one remembers defeats on the long run. People remember victories. So I have to move forward and try and prepare the best I can.\" King of clay Nadal had compiled a 31-match winning streak at the French Open and was attempting to win the second grand slam of the year after beating world number two Roger Federer in the final of the Australian Open. Soderling took advantage of a strong serve and big forehands to give Nadal a torrid time in front of a stunned crowd on the Philippe Chatrier court. Defeat for Nadal opens up his side of the draw with world number three Andy Murray a possible beneficiary. Murray, who was seeded to meet Nadal in the semifinals, beat Marin Cilic of Croatia 7-5 7-6 6-1 in their earlier fourth round match. He will play Fernando Gonzalez of Chile for a place in the semifinals. Gonzalez beat Victor Hanescu of Romania 6-2 6-4 6-2 in their fourth round match. Soderling will next play Nikolay Davydenko of Russia as the 10th seed beat  eighth-ranked Fernando Verdasco of Spain 6-2 6-2 6-4.in the final last 16 match of a dramatic day.'"
      ]
     },
     "execution_count": 53,
     "metadata": {},
     "output_type": "execute_result"
    }
   ],
   "source": [
    "cnn_news_summary_ds[\"train\"][\"article\"][7]"
   ]
  },
  {
   "cell_type": "markdown",
   "metadata": {
    "id": "MJXS7IaeudmL"
   },
   "source": [
    "Now observing cleaned up version of the same raw data"
   ]
  },
  {
   "cell_type": "code",
   "execution_count": 54,
   "metadata": {
    "colab": {
     "base_uri": "https://localhost:8080/",
     "height": 105
    },
    "id": "WtRDu9jv4ZmT",
    "outputId": "5cb25dd5-9547-4399-dabc-5ff7263b4df8"
   },
   "outputs": [
    {
     "data": {
      "text/plain": [
       "\"(cnn)   four-time defending champion rafael nadal slid to an astonishing 6-2 6-7 6-4 7-6 defeat to sweden's robin soderling at the french open on sunday. soderling savors his unlikely triumph against nadal in the french open fourth round. soderling, the 23rd seed, was a rank outsider against the world number one who had never lost a match on the clay at roland garros and was a short-priced favorite to win a record fifth straight title. but soderling never looked back after breezing through the first set of their fourth round match and closed out victory as nadal sent a volley wide after bravely saving a matchpoint in the fourth set tiebreak. the spaniard tried to look on the positives after his shock defeat. it's not a tragedy, losing here in paris, he told the official tournament web site www.rolandgarros.com . it had to happen one day, and this is an excellent season for me. of course it's a bit sad, but i have to overcome this as quickly as possible. no one remembers defeats on the long run. people remember victories. so i have to move forward and try and prepare the best i can. king of clay nadal had compiled a 31-match winning streak at the french open and was attempting to win the second grand slam of the year after beating world number two roger federer in the final of the australian open. soderling took advantage of a strong serve and big forehands to give nadal a torrid time in front of a stunned crowd on the philippe chatrier court. defeat for nadal opens up his side of the draw with world number three andy murray a possible beneficiary. murray, who was seeded to meet nadal in the semifinals, beat marin cilic of croatia 7-5 7-6 6-1 in their earlier fourth round match. he will play fernando gonzalez of chile for a place in the semifinals. gonzalez beat victor hanescu of romania 6-2 6-4 6-2 in their fourth round match. soderling will next play nikolay davydenko of russia as the 10th seed beat  eighth-ranked fernando verdasco of spain 6-2 6-2 6-4.in the final last 16 match of a dramatic day.\""
      ]
     },
     "execution_count": 54,
     "metadata": {},
     "output_type": "execute_result"
    }
   ],
   "source": [
    "cleaned_cnn_news_summary_ds[\"train\"][\"article\"][7]"
   ]
  },
  {
   "cell_type": "markdown",
   "metadata": {
    "id": "2CRQDsnYul4s"
   },
   "source": [
    "Similarly,both raw and cleaned up version of highlights(summary) of same example can be seen"
   ]
  },
  {
   "cell_type": "code",
   "execution_count": 55,
   "metadata": {
    "colab": {
     "base_uri": "https://localhost:8080/",
     "height": 35
    },
    "id": "KLF-XGjYGaKW",
    "outputId": "5a6481fd-f629-400b-86a3-1f0858d83b3a"
   },
   "outputs": [
    {
     "data": {
      "text/plain": [
       "'Maradona staying a clinic in Italy when tax authorities swooped .\\nReports: Argentina coach owes millions in taxes from his time playing in Italy .\\nMaradona says Serie A club should have paid the taxes .'"
      ]
     },
     "execution_count": 55,
     "metadata": {},
     "output_type": "execute_result"
    }
   ],
   "source": [
    "cnn_news_summary_ds[\"train\"][\"highlights\"][0]"
   ]
  },
  {
   "cell_type": "code",
   "execution_count": 56,
   "metadata": {
    "colab": {
     "base_uri": "https://localhost:8080/",
     "height": 35
    },
    "id": "creOZ-Li2uVl",
    "outputId": "411e9b8e-c36b-48e4-a2be-44b68fe10d4d"
   },
   "outputs": [
    {
     "data": {
      "text/plain": [
       "'maradona staying a clinic in italy when tax authorities swooped .reports: argentina coach owes millions in taxes from his time playing in italy .maradona says serie a club should have paid the taxes .'"
      ]
     },
     "execution_count": 56,
     "metadata": {},
     "output_type": "execute_result"
    }
   ],
   "source": [
    "cleaned_cnn_news_summary_ds[\"train\"][\"highlights\"][0]"
   ]
  },
  {
   "cell_type": "markdown",
   "metadata": {
    "id": "ambqnbMQ1YDd"
   },
   "source": [
    "# Zero-Shot Learning\n",
    "taking a random article for summarising"
   ]
  },
  {
   "cell_type": "code",
   "execution_count": 57,
   "metadata": {
    "colab": {
     "base_uri": "https://localhost:8080/",
     "height": 105
    },
    "id": "xVJ3JdrHCJo0",
    "outputId": "a26279d6-8a12-43e1-ab38-9df694931d65"
   },
   "outputs": [
    {
     "data": {
      "text/plain": [
       "\"(cnn)  every dog has his day, but sir lancelot  or at least his carbon copy  has a second one. edgar and nina otto show off 10-week-old lancey, a clone of the most human of any dog we've ever had. a boca raton, florida, couple paid a california firm $155,000 to clone their beloved labrador retriever, who died from cancer a year ago. the clone, a 10-week-old puppy dubbed lancey, was hand-delivered to them earlier this week by lou hawthorne, chairman of bioarts international, a biotechnology company. one minute with lancey and you know he's special. he's both extremely aware and very sweet, hawthorne said in a bioarts statement. edgar and nina otto said they began thinking about cloning sir lancelot about five years ago. i said 'well, you know, it wouldn't hurt to have his dna frozen,' and that's what we did, nina otto told cnn affiliate wpbf. the ottos were one of five families to bid and win a bioarts auction for a chance to clone their family dog, according to a bioarts statement. lancey is the world's first commercially cloned dog, the company said; the ottos are the first of six current clients to receive their clone. sir lancelot's dna sample was sent to the sooam biotech research foundation in seoul, south korea, which provides cloning services to bioarts. researchers there put the dna into an egg, and lancey was born november 18, according to bioarts. the ottos said they have had many beloved dogs over the years  and have nine others currently  but maintain sir lancelot was special. sir lancelot was the most human of any dog we've ever had, edgar otto said in the bioarts statement. he was a prince among dogs. in an interview with wpbf, edgar otto said sir lancelot was a very, very, very special dog to us. and we've given a lot more to the humane society than we've ever spent on this project.  watch the ottos talk about lancelot and lancey » . for its part, the humane society of the united states says it's against the commercial cloning of animals. given the current pet overpopulation problem, which costs millions of animals their lives and millions in public tax dollars each year, the cloning of pets has no social value and in fact may lead to increased animal suffering, the organization said on its web site. for those looking to replace a lost pet, cloning will not create an animal identical to the one who is gone; cloning cannot replicate an animal's uniqueness. cloning can only replicate the pet's genetics, which influence but do not determine his physical attributes or personality. the ottos, however, said replicating sir lancelot's genetics is enough for them. edgar otto said he realizes lancey might not be just like their departed dog, but if he's different, we're not going to love him any less. edgar otto is the son of the late edwin otto, who was part of the founding of nascar and a motorsports pioneer, according to www.ottomotorsports.com.\""
      ]
     },
     "execution_count": 57,
     "metadata": {},
     "output_type": "execute_result"
    }
   ],
   "source": [
    "EXAMPLE_TEXT_INDEX = 33\n",
    "\n",
    "example_text = cleaned_cnn_news_summary_ds[\"test\"][\"article\"][EXAMPLE_TEXT_INDEX]\n",
    "\n",
    "example_text"
   ]
  },
  {
   "cell_type": "code",
   "execution_count": 58,
   "metadata": {
    "id": "-OFfCV5JWyQ0"
   },
   "outputs": [],
   "source": [
    "MODEL_NAME = \"t5-small\""
   ]
  },
  {
   "cell_type": "code",
   "execution_count": 59,
   "metadata": {
    "colab": {
     "base_uri": "https://localhost:8080/"
    },
    "id": "k2y-A7pkCgwm",
    "outputId": "acbaabbd-79f2-4702-b879-e96374c12c96"
   },
   "outputs": [
    {
     "name": "stderr",
     "output_type": "stream",
     "text": [
      "Token indices sequence length is longer than the specified maximum sequence length for this model (887 > 512). Running this sequence through the model will result in indexing errors\n"
     ]
    },
    {
     "data": {
      "text/plain": [
       "[{'summary_text': \"edgar and nina otto paid california firm $155,000 to clone their beloved labrador retriever . lancey, a 10-week-old puppy, was hand-delivered to them earlier this week . he's the most human of any dog we've ever had, the company says .\"}]"
      ]
     },
     "execution_count": 59,
     "metadata": {},
     "output_type": "execute_result"
    }
   ],
   "source": [
    "from transformers import pipeline\n",
    "\n",
    "prefix = \"summarize: \"\n",
    "\n",
    "summarizer = pipeline(\"summarization\", model = MODEL_NAME)\n",
    "\n",
    "summary_txt = summarizer(prefix + example_text)\n",
    "\n",
    "summary_txt\n",
    "\n",
    "# Results in Error: \"Token indices sequence length is longer than the specified maximum sequence length for this model (887 > 512). Running this sequence through the model will result in indexing errors\"\n",
    "# This is because the T5-small model has a max sequence length of 512\n"
   ]
  },
  {
   "cell_type": "code",
   "execution_count": 60,
   "metadata": {
    "colab": {
     "base_uri": "https://localhost:8080/"
    },
    "id": "LTtU9sViUNci",
    "outputId": "a3849602-ae85-456b-ea79-94e62ab98b3b"
   },
   "outputs": [
    {
     "data": {
      "text/plain": [
       "[{'summary_text': 'edgar and nina otto paid a california firm $155,000 to clone their beloved labrador retriever . the 10-week-old puppy was hand-delivered to them earlier this week by lou hawthorne .'}]"
      ]
     },
     "execution_count": 60,
     "metadata": {},
     "output_type": "execute_result"
    }
   ],
   "source": [
    "summarizer = pipeline(\"summarization\", model = MODEL_NAME, truncation=True)\n",
    "\n",
    "summary_txt = summarizer(prefix + example_text)\n",
    "\n",
    "summary_txt"
   ]
  },
  {
   "cell_type": "markdown",
   "metadata": {
    "id": "6pSR5vWiSQzQ"
   },
   "source": [
    "Gold/Reference summary is obtained"
   ]
  },
  {
   "cell_type": "code",
   "execution_count": 61,
   "metadata": {
    "colab": {
     "base_uri": "https://localhost:8080/",
     "height": 53
    },
    "id": "Q5xJzt2LKgGh",
    "outputId": "3aae50be-5628-4f11-c974-f3fb99e02312"
   },
   "outputs": [
    {
     "data": {
      "text/plain": [
       "\"couple won auction to clone family dog, biotech company says .lancey is world's first commercially cloned dog, company says .dna of deceased dog sent to s. korea, and cloned puppy born november 18 .humane society says it's against commercial cloning of animals .\""
      ]
     },
     "execution_count": 61,
     "metadata": {},
     "output_type": "execute_result"
    }
   ],
   "source": [
    "ref_txt = cleaned_cnn_news_summary_ds[\"test\"][\"highlights\"][EXAMPLE_TEXT_INDEX]\n",
    "\n",
    "ref_txt"
   ]
  },
  {
   "cell_type": "markdown",
   "metadata": {
    "id": "CkfRN8otSW8g"
   },
   "source": [
    "Rouge metric is instantiated"
   ]
  },
  {
   "cell_type": "code",
   "execution_count": 62,
   "metadata": {
    "colab": {
     "base_uri": "https://localhost:8080/"
    },
    "id": "FRuHkN5_L_SU",
    "outputId": "2096c47a-355d-4897-eb64-999afa53bbee"
   },
   "outputs": [
    {
     "data": {
      "text/plain": [
       "EvaluationModule(name: \"rouge\", module_type: \"metric\", features: [{'predictions': Value(dtype='string', id='sequence'), 'references': Sequence(feature=Value(dtype='string', id='sequence'), length=-1, id=None)}, {'predictions': Value(dtype='string', id='sequence'), 'references': Value(dtype='string', id='sequence')}], usage: \"\"\"\n",
       "Calculates average rouge scores for a list of hypotheses and references\n",
       "Args:\n",
       "    predictions: list of predictions to score. Each prediction\n",
       "        should be a string with tokens separated by spaces.\n",
       "    references: list of reference for each prediction. Each\n",
       "        reference should be a string with tokens separated by spaces.\n",
       "    rouge_types: A list of rouge types to calculate.\n",
       "        Valid names:\n",
       "        `\"rouge{n}\"` (e.g. `\"rouge1\"`, `\"rouge2\"`) where: {n} is the n-gram based scoring,\n",
       "        `\"rougeL\"`: Longest common subsequence based scoring.\n",
       "        `\"rougeLsum\"`: rougeLsum splits text using `\"\n",
       "\"`.\n",
       "        See details in https://github.com/huggingface/datasets/issues/617\n",
       "    use_stemmer: Bool indicating whether Porter stemmer should be used to strip word suffixes.\n",
       "    use_aggregator: Return aggregates if this is set to True\n",
       "Returns:\n",
       "    rouge1: rouge_1 (f1),\n",
       "    rouge2: rouge_2 (f1),\n",
       "    rougeL: rouge_l (f1),\n",
       "    rougeLsum: rouge_lsum (f1)\n",
       "Examples:\n",
       "\n",
       "    >>> rouge = evaluate.load('rouge')\n",
       "    >>> predictions = [\"hello there\", \"general kenobi\"]\n",
       "    >>> references = [\"hello there\", \"general kenobi\"]\n",
       "    >>> results = rouge.compute(predictions=predictions, references=references)\n",
       "    >>> print(results)\n",
       "    {'rouge1': 1.0, 'rouge2': 1.0, 'rougeL': 1.0, 'rougeLsum': 1.0}\n",
       "\"\"\", stored examples: 0)"
      ]
     },
     "execution_count": 62,
     "metadata": {},
     "output_type": "execute_result"
    }
   ],
   "source": [
    "import evaluate\n",
    "\n",
    "rouge = evaluate.load(\"rouge\")\n",
    "\n",
    "rouge"
   ]
  },
  {
   "cell_type": "code",
   "execution_count": 63,
   "metadata": {
    "id": "XDvW0F3Y4Rzm"
   },
   "outputs": [],
   "source": [
    "reference = \"the elephant was found near the river and everyone was glad\"\n",
    "\n",
    "ex_1 = \"the big elephant was found near the turbulent river and everyone was ecstatic\"\n",
    "\n",
    "ex_2 = \"the big elephant was found near the river and made everyone glad\""
   ]
  },
  {
   "cell_type": "markdown",
   "metadata": {
    "id": "CKUdafnmD92P"
   },
   "source": [
    "Rouge score with extra words in summary in comparison to reference(gold summary)"
   ]
  },
  {
   "cell_type": "code",
   "execution_count": 64,
   "metadata": {
    "colab": {
     "base_uri": "https://localhost:8080/"
    },
    "id": "-XR0p8Ca5BpL",
    "outputId": "e0a15b90-dd4f-4f94-d107-d069a347afd8"
   },
   "outputs": [
    {
     "data": {
      "text/plain": [
       "{'rouge1': 0.8333333333333333,\n",
       " 'rouge2': 0.6363636363636365,\n",
       " 'rougeL': 0.8333333333333333,\n",
       " 'rougeLsum': 0.8333333333333333}"
      ]
     },
     "execution_count": 64,
     "metadata": {},
     "output_type": "execute_result"
    }
   ],
   "source": [
    "results = rouge.compute(predictions = [ex_1], references = [reference])\n",
    "\n",
    "results"
   ]
  },
  {
   "cell_type": "markdown",
   "metadata": {
    "id": "NKwTLcdXEa0n"
   },
   "source": [
    "Fewer extra words and better the score"
   ]
  },
  {
   "cell_type": "code",
   "execution_count": 65,
   "metadata": {
    "colab": {
     "base_uri": "https://localhost:8080/"
    },
    "id": "_7Of4TtD7ITs",
    "outputId": "7b9a4c0c-f209-4438-d4c9-dfa6b7655ecd"
   },
   "outputs": [
    {
     "data": {
      "text/plain": [
       "{'rouge1': 0.8695652173913043,\n",
       " 'rouge2': 0.5714285714285713,\n",
       " 'rougeL': 0.8695652173913043,\n",
       " 'rougeLsum': 0.8695652173913043}"
      ]
     },
     "execution_count": 65,
     "metadata": {},
     "output_type": "execute_result"
    }
   ],
   "source": [
    "results = rouge.compute(predictions = [ex_2], references = [reference])\n",
    "\n",
    "results"
   ]
  },
  {
   "cell_type": "markdown",
   "metadata": {
    "id": "r3Xmd9ZG85-k"
   },
   "source": [
    "Coming back to our predicted summary"
   ]
  },
  {
   "cell_type": "code",
   "execution_count": 66,
   "metadata": {
    "colab": {
     "base_uri": "https://localhost:8080/",
     "height": 35
    },
    "id": "kSkzl5-E78RJ",
    "outputId": "4d506314-d120-4390-faa3-b99b590549a1"
   },
   "outputs": [
    {
     "data": {
      "text/plain": [
       "'edgar and nina otto paid a california firm $155,000 to clone their beloved labrador retriever . the 10-week-old puppy was hand-delivered to them earlier this week by lou hawthorne .'"
      ]
     },
     "execution_count": 66,
     "metadata": {},
     "output_type": "execute_result"
    }
   ],
   "source": [
    "summary_txt[0][\"summary_text\"]"
   ]
  },
  {
   "cell_type": "markdown",
   "metadata": {
    "id": "AND8xxB8SMRu"
   },
   "source": [
    "Rouge score for that text summary is obtained"
   ]
  },
  {
   "cell_type": "code",
   "execution_count": 67,
   "metadata": {
    "colab": {
     "base_uri": "https://localhost:8080/"
    },
    "id": "diuZBop2Lpbs",
    "outputId": "0c048552-1b85-4572-adf3-b3fb6e877355"
   },
   "outputs": [
    {
     "data": {
      "text/plain": [
       "{'rouge1': 0.13157894736842105,\n",
       " 'rouge2': 0.027027027027027025,\n",
       " 'rougeL': 0.07894736842105263,\n",
       " 'rougeLsum': 0.07894736842105263}"
      ]
     },
     "execution_count": 67,
     "metadata": {},
     "output_type": "execute_result"
    }
   ],
   "source": [
    "result = rouge.compute(predictions = [summary_txt[0][\"summary_text\"]],\n",
    "                       references = [ref_txt], use_stemmer = True)\n",
    "result"
   ]
  },
  {
   "cell_type": "markdown",
   "metadata": {
    "id": "cdyVNMYeR1i8"
   },
   "source": [
    "All article texts and summaries are defined in a list"
   ]
  },
  {
   "cell_type": "code",
   "execution_count": 68,
   "metadata": {
    "id": "WXRYxEY_M0M3"
   },
   "outputs": [],
   "source": [
    "article_texts = cleaned_cnn_news_summary_ds[\"test\"][\"article\"]\n",
    "\n",
    "article_summaries = cleaned_cnn_news_summary_ds[\"test\"][\"highlights\"]"
   ]
  },
  {
   "cell_type": "markdown",
   "metadata": {
    "id": "7qhii1bgVu-B"
   },
   "source": [
    "Generating summaries (zero shot) for first 50 rows only as it will takes a very long time in summarizing whole set of examples"
   ]
  },
  {
   "cell_type": "code",
   "execution_count": 69,
   "metadata": {
    "colab": {
     "base_uri": "https://localhost:8080/"
    },
    "id": "mmSmCWbNNkc8",
    "outputId": "913b684e-06ee-46f2-9540-4b839233a451"
   },
   "outputs": [
    {
     "name": "stderr",
     "output_type": "stream",
     "text": [
      "  2%|█▋                                                                                  | 1/50 [00:02<02:02,  2.51s/it]Your max_length is set to 200, but your input_length is only 171. Since this is a summarization task, where outputs shorter than the input are typically wanted, you might consider decreasing max_length manually, e.g. summarizer('...', max_length=85)\n",
      "100%|███████████████████████████████████████████████████████████████████████████████████| 50/50 [02:10<00:00,  2.62s/it]\n"
     ]
    }
   ],
   "source": [
    "from tqdm import tqdm\n",
    "\n",
    "candidate_summaries = []\n",
    "\n",
    "prefix = \"summarize: \"\n",
    "\n",
    "for i, text in enumerate(tqdm(article_texts[:50])):\n",
    "\n",
    "    candidate = summarizer(prefix + text)\n",
    "\n",
    "    candidate_summaries.append(candidate[0][\"summary_text\"])"
   ]
  },
  {
   "cell_type": "markdown",
   "metadata": {
    "id": "mYp8QjAT9vDE"
   },
   "source": [
    "Aggregated rouge scores are obtained"
   ]
  },
  {
   "cell_type": "code",
   "execution_count": 70,
   "metadata": {
    "colab": {
     "base_uri": "https://localhost:8080/"
    },
    "id": "F6Ic-98x9p5K",
    "outputId": "46ae54ef-9ff4-4ab4-f174-e8f08a3ca786"
   },
   "outputs": [
    {
     "data": {
      "text/plain": [
       "{'rouge1': 0.32629704621472744,\n",
       " 'rouge2': 0.13921312842379102,\n",
       " 'rougeL': 0.23932175088617413,\n",
       " 'rougeLsum': 0.23967552995983654}"
      ]
     },
     "execution_count": 70,
     "metadata": {},
     "output_type": "execute_result"
    }
   ],
   "source": [
    "result_agg = rouge.compute(predictions = candidate_summaries,\n",
    "                           references = article_summaries[:50],\n",
    "                           use_stemmer = True)\n",
    "result_agg"
   ]
  },
  {
   "cell_type": "markdown",
   "metadata": {
    "id": "LiLZ7QjU-tKE"
   },
   "source": [
    "Here case by case rouge scores are obtained."
   ]
  },
  {
   "cell_type": "code",
   "execution_count": null,
   "metadata": {
    "colab": {
     "base_uri": "https://localhost:8080/"
    },
    "id": "OvsMALqs-bgA",
    "outputId": "8885a736-5454-4018-8192-7ae94258c525"
   },
   "outputs": [],
   "source": [
    "result_unagg = rouge.compute(predictions = candidate_summaries,\n",
    "                             references = article_summaries[:50],\n",
    "                             use_stemmer = True,\n",
    "                             use_aggregator = False)\n",
    "result_unagg"
   ]
  },
  {
   "cell_type": "markdown",
   "metadata": {
    "id": "HE1SzmuKGCs0"
   },
   "source": [
    "Minimum and maximum Rouge score indices are obtained to check best and worst summaries"
   ]
  },
  {
   "cell_type": "code",
   "execution_count": null,
   "metadata": {
    "colab": {
     "base_uri": "https://localhost:8080/"
    },
    "id": "6JHhw5sb1r3H",
    "outputId": "1b0adb45-4fdf-4995-a162-f4a433209a4a"
   },
   "outputs": [],
   "source": [
    "import numpy as np\n",
    "\n",
    "result_unagg_rsum = np.array(result_unagg[\"rouge2\"])\n",
    "\n",
    "np.argmax(result_unagg_rsum), np.argmin(result_unagg_rsum)"
   ]
  },
  {
   "cell_type": "markdown",
   "metadata": {
    "id": "jGeyNeNZ_ufO"
   },
   "source": [
    "Actual vs Predicted summaries dataframe is obtained"
   ]
  },
  {
   "cell_type": "code",
   "execution_count": null,
   "metadata": {
    "colab": {
     "base_uri": "https://localhost:8080/",
     "height": 206
    },
    "id": "0tAktC5z_oX7",
    "outputId": "2892e929-fa15-4be9-e097-0f82661ffdf1"
   },
   "outputs": [],
   "source": [
    "import pandas as pd\n",
    "\n",
    "act_vs_pred_summaries_df = pd.DataFrame(list(zip(candidate_summaries, article_summaries[:50])),\n",
    "                                        columns = [\"Predicted_Summaries\", \"Reference_summaries\"])\n",
    "act_vs_pred_summaries_df.head()"
   ]
  },
  {
   "cell_type": "markdown",
   "metadata": {
    "id": "iktBriBxEA1_"
   },
   "source": [
    "For the best rouge score, we can observe the predicted and reference summaries"
   ]
  },
  {
   "cell_type": "code",
   "execution_count": null,
   "metadata": {
    "colab": {
     "base_uri": "https://localhost:8080/"
    },
    "id": "7RbS2VIKD21_",
    "outputId": "9e2826ed-bdde-4d63-b8d2-61b0667dbacd"
   },
   "outputs": [],
   "source": [
    "print(\"Actual Summary\")\n",
    "print(act_vs_pred_summaries_df._get_value(38, \"Predicted_Summaries\"))\n",
    "\n",
    "print(\"Reference Summary\")\n",
    "print(act_vs_pred_summaries_df._get_value(38, \"Reference_summaries\"))"
   ]
  },
  {
   "cell_type": "code",
   "execution_count": null,
   "metadata": {
    "colab": {
     "base_uri": "https://localhost:8080/"
    },
    "id": "dOv_oZsCD2v1",
    "outputId": "e73d06fc-fa39-4b9a-9997-d2beaba62db4"
   },
   "outputs": [],
   "source": [
    "print(\"Actual Summary\")\n",
    "print(act_vs_pred_summaries_df._get_value(12, \"Predicted_Summaries\"))\n",
    "\n",
    "print(\"Reference Summary\")\n",
    "print(act_vs_pred_summaries_df._get_value(12, \"Reference_summaries\"))"
   ]
  },
  {
   "cell_type": "markdown",
   "metadata": {
    "id": "RWE6xPn3Vwjk"
   },
   "source": [
    "Loading  a T5 tokenizer to process text and summary"
   ]
  },
  {
   "cell_type": "code",
   "execution_count": null,
   "metadata": {
    "id": "cbP75WBqxRcq"
   },
   "outputs": [],
   "source": [
    "from transformers import AutoTokenizer\n",
    "\n",
    "tokenizer = AutoTokenizer.from_pretrained(MODEL_NAME)"
   ]
  },
  {
   "cell_type": "markdown",
   "metadata": {
    "id": "zYvh65xBMoV2"
   },
   "source": [
    "Tokenizer is applied and token ids can be seen"
   ]
  },
  {
   "cell_type": "code",
   "execution_count": null,
   "metadata": {
    "colab": {
     "base_uri": "https://localhost:8080/"
    },
    "id": "gIlG9EP65rl2",
    "outputId": "967e2eaf-8411-4c01-d344-0755249af5b3"
   },
   "outputs": [],
   "source": [
    "tokenizer([\"four-time defending champion\"])"
   ]
  },
  {
   "cell_type": "code",
   "execution_count": null,
   "metadata": {
    "colab": {
     "base_uri": "https://localhost:8080/"
    },
    "id": "hw4X7X3aSBBN",
    "outputId": "d519052b-ce8d-45db-dac0-cb72a12158d3"
   },
   "outputs": [],
   "source": [
    "tokens = tokenizer.tokenize(\"four-time defending champion\")\n",
    "\n",
    "tokens"
   ]
  },
  {
   "cell_type": "code",
   "execution_count": null,
   "metadata": {
    "colab": {
     "base_uri": "https://localhost:8080/"
    },
    "id": "QUOw00jXSXpX",
    "outputId": "890c4934-8635-4688-acd3-6e82f9a09ef6"
   },
   "outputs": [],
   "source": [
    "ids = tokenizer.convert_tokens_to_ids(tokens)\n",
    "\n",
    "ids"
   ]
  },
  {
   "cell_type": "markdown",
   "metadata": {
    "id": "3QqfCMkORum4"
   },
   "source": [
    "Loading T5 Model with AutoModelForSeq2SeqLM"
   ]
  },
  {
   "cell_type": "code",
   "execution_count": null,
   "metadata": {
    "id": "1BikSdonVvnq"
   },
   "outputs": [],
   "source": [
    "from transformers import AutoModelForSeq2SeqLM, Seq2SeqTrainingArguments, Seq2SeqTrainer\n",
    "\n",
    "model = AutoModelForSeq2SeqLM.from_pretrained(MODEL_NAME)"
   ]
  },
  {
   "cell_type": "markdown",
   "metadata": {
    "id": "89FjWBvk9lAa"
   },
   "source": [
    "The preprocessing function you want to create needs to:\n",
    "\n",
    "Prefix the input with a prompt so T5 knows this is a summarization task. Some models capable of multiple NLP tasks require prompting for specific tasks.\n",
    "Use the keyword text_target argument when tokenizing labels.\n",
    "Truncate sequences to be no longer than the maximum length set by the max_length parameter."
   ]
  },
  {
   "cell_type": "code",
   "execution_count": null,
   "metadata": {
    "id": "XPR3hstoWNvc"
   },
   "outputs": [],
   "source": [
    "prefix = \"summarize: \"\n",
    "\n",
    "\n",
    "def preprocess_function(examples):\n",
    "\n",
    "    inputs = [prefix + doc for doc in examples[\"article\"]]\n",
    "    model_inputs = tokenizer(inputs, max_length = 1024, truncation = True)\n",
    "\n",
    "    labels = tokenizer(text_target = examples[\"highlights\"], max_length = 128, truncation = True)\n",
    "\n",
    "    model_inputs[\"labels\"] = labels[\"input_ids\"]\n",
    "\n",
    "    return model_inputs"
   ]
  },
  {
   "cell_type": "markdown",
   "metadata": {
    "id": "TxDDuI5EShsq"
   },
   "source": [
    "Applying the preprocessing function over the entire dataset by using 'map' method. We can speed up the map function by setting batched=True to process multiple elements of the dataset at once"
   ]
  },
  {
   "cell_type": "code",
   "execution_count": null,
   "metadata": {
    "colab": {
     "base_uri": "https://localhost:8080/",
     "height": 223,
     "referenced_widgets": [
      "73e54af058b542d584190d705b74e653",
      "7acf05d80fd74ed5a7f89a967cd2288c",
      "c1109aa19c4a4ccf97f3ee76c0bdeb84",
      "e1da9bd353dd4d698fc42e6e9668d4d9",
      "8c84b05be09b420c998418a41b661a0f",
      "14682b8e9f4047df88178f7b150274f8",
      "ff408c275c6a41369a84a611bd475a1b",
      "2425b1a6f3f84456acf2f57c8f9a263a",
      "505594ae454f40aca999a1c4268f5754",
      "282cb9496b9f4e33a65a80eab0dc65b8",
      "0f791c06009a489c8f40e7c33441582f"
     ]
    },
    "id": "aqDxsUdK6pvP",
    "outputId": "e7346325-26e6-4108-e56c-4c5d03760aa6"
   },
   "outputs": [],
   "source": [
    "tokenized_cnn_news_summary_ds = cleaned_cnn_news_summary_ds.map(preprocess_function, batched = True)\n",
    "\n",
    "tokenized_cnn_news_summary_ds"
   ]
  },
  {
   "cell_type": "markdown",
   "metadata": {
    "id": "mq4NciYMSaw6"
   },
   "source": [
    "Now create a batch of examples using DataCollatorForSeq2Seq. It’s more efficient to dynamically pad the sentences to the longest length in a batch during collation, instead of padding the whole dataset to the maximum length."
   ]
  },
  {
   "cell_type": "code",
   "execution_count": null,
   "metadata": {
    "id": "G0Dtj4mGcrYq"
   },
   "outputs": [],
   "source": [
    "from transformers import DataCollatorForSeq2Seq\n",
    "\n",
    "data_collator = DataCollatorForSeq2Seq(tokenizer = tokenizer, model = MODEL_NAME)"
   ]
  },
  {
   "cell_type": "code",
   "execution_count": null,
   "metadata": {
    "id": "dR56hzclc-dA"
   },
   "outputs": [],
   "source": [
    "def compute_metrics(eval_pred):\n",
    "    predictions, labels = eval_pred\n",
    "    decoded_preds = tokenizer.batch_decode(predictions, skip_special_tokens = True)\n",
    "\n",
    "    labels = np.where(labels != -100, labels, tokenizer.pad_token_id)\n",
    "    decoded_labels = tokenizer.batch_decode(labels, skip_special_tokens = True)\n",
    "\n",
    "    result = rouge.compute(predictions = decoded_preds, references = decoded_labels, use_stemmer = True)\n",
    "\n",
    "    prediction_length = [np.count_nonzero(pred != tokenizer.pad_token_id) for pred in predictions]\n",
    "    result[\"generated_length\"] = np.mean(prediction_length)\n",
    "\n",
    "    return {k: round(v, 4) for k, v in result.items()}"
   ]
  },
  {
   "cell_type": "markdown",
   "metadata": {
    "id": "rddlJvo-RaoF"
   },
   "source": [
    "\n",
    "Defining our training hyperparameters in Seq2SeqTrainingArguments. The only required parameter is output_dir which specifies where to save your model. We will push this model to the Hub by setting push_to_hub=True (you need to be signed in to Hugging Face to upload your model). At the end of each epoch, the Trainer will evaluate the ROUGE metric and save the training checkpoint.\n",
    "Passing the training arguments to Seq2SeqTrainer along with the model, dataset, tokenizer, data collator, and compute_metrics function.\n",
    "Calling train() to finetune your model."
   ]
  },
  {
   "cell_type": "code",
   "execution_count": null,
   "metadata": {
    "colab": {
     "base_uri": "https://localhost:8080/",
     "height": 294
    },
    "id": "onwzAIEbdK9g",
    "outputId": "e28389ce-5487-4403-9b18-0022863f2426"
   },
   "outputs": [],
   "source": [
    "training_args = Seq2SeqTrainingArguments(\n",
    "    output_dir = \"cnn_news_summary_model_trained_on_reduced_data\",\n",
    "    evaluation_strategy = \"epoch\",\n",
    "    learning_rate = 2e-5,\n",
    "    per_device_train_batch_size = 16,\n",
    "    per_device_eval_batch_size = 16,\n",
    "    weight_decay = 0.01,\n",
    "    save_total_limit = 3,\n",
    "    num_train_epochs = 3,\n",
    "    predict_with_generate = True,\n",
    "    fp16 = True,\n",
    "    push_to_hub = True,\n",
    ")\n",
    "\n",
    "trainer = Seq2SeqTrainer(\n",
    "    model = model,\n",
    "    args = training_args,\n",
    "    train_dataset = tokenized_cnn_news_summary_ds[\"train\"],\n",
    "    eval_dataset = tokenized_cnn_news_summary_ds[\"test\"],\n",
    "    tokenizer = tokenizer,\n",
    "    data_collator = data_collator,\n",
    "    compute_metrics = compute_metrics\n",
    ")\n",
    "\n",
    "trainer.train()"
   ]
  },
  {
   "cell_type": "markdown",
   "metadata": {
    "id": "laaCOmOdBte_"
   },
   "source": [
    "## TODO Recording:\n",
    "\n",
    "- Immediately after training completes click on the link to the model on HuggingFace e.g. https://huggingface.co/loony-user/cnn_news_summary_model_trained_on_reduced_data\n",
    "- Click on Model Card - should be nothing there\n",
    "- Click on Files and Versions - should see the trained model files and some commits there\n",
    "- Click on Training Metrics - that will take you to TensorBoard - show the graphs there (click on all tabs)"
   ]
  },
  {
   "cell_type": "code",
   "execution_count": null,
   "metadata": {
    "colab": {
     "base_uri": "https://localhost:8080/",
     "height": 308,
     "referenced_widgets": [
      "39026abdc1a449da86d9c76c6d31432b",
      "7d859e043ed04f1da99cb08cbd542f54",
      "174c52396fa8449ab4f89844e53caf57",
      "7080c985675041fabc073ae6996c7ea1",
      "016d5e7c4a384ff38b1228e93c382229",
      "1eaccae77d91405e994dce9042645501",
      "b55aac68703a4781ac48f802f5114fcf",
      "0dfb0f0fc44e465db5056d00dc6fced3",
      "93e050136f01471d80e113c4e4b1daff",
      "325002f415ae4f889f4d15ecbbfb9662",
      "1f8a2018f2154bdb99bc0870699bc92b",
      "738c85bd54174bb2b85b65482cca1063",
      "15d7cf93e6794183ad7e7a95d8442736",
      "9ab2b3c11de54fcf87096612abd4b8ea",
      "780455bc02c244dba178bda047bf8c87",
      "0d0bd6d543ea4f30927493cd327c6c3e",
      "e215c03d30da41e886ef960519a4f6ff",
      "5c68c79e9320438c8c65f97ed5134ebc",
      "1aedb6e1d75c42acb259baab41521b82",
      "ccdca671cd8149db979a04f451c7fa6d",
      "f6547f288b4143e6a83b4e97d138b6b7",
      "e9928402dd7f4308ac30a319e2de1f7b"
     ]
    },
    "id": "tJl0TnIF76tJ",
    "outputId": "282ac55c-37d9-4686-e0e9-1d70f84f58fb"
   },
   "outputs": [],
   "source": [
    "trainer.push_to_hub()"
   ]
  },
  {
   "cell_type": "markdown",
   "metadata": {
    "id": "NzVAm0oSCVGS"
   },
   "source": [
    "## TODO Recording:\n",
    "\n",
    "- Now go to the model on HuggingFace\n",
    "- Click on \"Model Card\" show that it has been generated\n",
    "- Click on \"Files and Versions\" and show"
   ]
  },
  {
   "cell_type": "code",
   "execution_count": null,
   "metadata": {
    "colab": {
     "base_uri": "https://localhost:8080/",
     "height": 105
    },
    "id": "mYsJWgi-De9I",
    "outputId": "d2403e99-8b2d-48a7-82bc-2290055cb5de"
   },
   "outputs": [],
   "source": [
    "example_text"
   ]
  },
  {
   "cell_type": "markdown",
   "metadata": {
    "id": "iID-4veYLMow"
   },
   "source": [
    "The simplest way to try out your finetuned model for inference is to use it in a pipeline(). Instantiate a pipeline for summarization with your model, and pass your text to it:"
   ]
  },
  {
   "cell_type": "code",
   "execution_count": null,
   "metadata": {
    "colab": {
     "base_uri": "https://localhost:8080/"
    },
    "id": "UG9NfhLY36Jg",
    "outputId": "6919a55f-c8d2-4178-9872-a458275b47e6"
   },
   "outputs": [],
   "source": [
    "from transformers import pipeline\n",
    "\n",
    "prefix = \"summarize: \"\n",
    "\n",
    "summarizer = pipeline(\n",
    "    \"summarization\",\n",
    "    model = \"loony-user/cnn_news_summary_model_trained_on_reduced_data\",\n",
    "    truncation=True\n",
    ")\n",
    "summary_txt = summarizer(prefix + example_text)\n",
    "\n",
    "summary_txt"
   ]
  },
  {
   "cell_type": "markdown",
   "metadata": {
    "id": "7Odqj5kc0JDk"
   },
   "source": [
    "Alternative way of summarising text(manual method)"
   ]
  },
  {
   "cell_type": "code",
   "execution_count": null,
   "metadata": {
    "id": "VM2h2IXBzxeH"
   },
   "outputs": [],
   "source": [
    "from transformers import AutoTokenizer\n",
    "\n",
    "tokenizer = AutoTokenizer.from_pretrained(\"loony-user/cnn_news_summary_model_trained_on_reduced_data\")\n",
    "\n",
    "inputs = tokenizer(prefix + example_text, return_tensors = \"pt\", truncation=True).input_ids"
   ]
  },
  {
   "cell_type": "code",
   "execution_count": null,
   "metadata": {
    "colab": {
     "base_uri": "https://localhost:8080/",
     "height": 53
    },
    "id": "hV5vu7fgz6Mr",
    "outputId": "788351ae-53aa-46d9-af0a-abb4ffc3e5f0"
   },
   "outputs": [],
   "source": [
    "model = AutoModelForSeq2SeqLM.from_pretrained(\"loony-user/cnn_news_summary_model_trained_on_reduced_data\")\n",
    "\n",
    "outputs = model.generate(inputs, max_new_tokens = 100, do_sample = False)\n",
    "\n",
    "tokenizer.decode(outputs[0], skip_special_tokens = True)"
   ]
  },
  {
   "cell_type": "code",
   "execution_count": null,
   "metadata": {
    "colab": {
     "base_uri": "https://localhost:8080/",
     "height": 53
    },
    "id": "d1AK09DLRX2b",
    "outputId": "91538a4b-1b9e-43ac-9bd2-92395d2d70d2"
   },
   "outputs": [],
   "source": [
    "ref_txt"
   ]
  },
  {
   "cell_type": "code",
   "execution_count": null,
   "metadata": {
    "colab": {
     "base_uri": "https://localhost:8080/"
    },
    "id": "VEz6i4fID4vF",
    "outputId": "e731ae9b-351b-4bf1-c87f-f2e7f4d72566"
   },
   "outputs": [],
   "source": [
    "result = rouge.compute(predictions = [summary_txt[0][\"summary_text\"]],\n",
    "                       references = [ref_txt], use_stemmer = False)\n",
    "result"
   ]
  },
  {
   "cell_type": "code",
   "execution_count": null,
   "metadata": {
    "colab": {
     "base_uri": "https://localhost:8080/"
    },
    "id": "X78IvaohEhUl",
    "outputId": "dd2c6641-8127-4ba1-ae23-836797c59fe1"
   },
   "outputs": [],
   "source": [
    "candidate_summaries = []\n",
    "\n",
    "for i, text in enumerate(tqdm(article_texts[:50])):\n",
    "\n",
    "  candidate = summarizer(prefix + text)\n",
    "\n",
    "  candidate_summaries.append(candidate[0][\"summary_text\"])"
   ]
  },
  {
   "cell_type": "markdown",
   "metadata": {
    "id": "3SzyMC2rNYgO"
   },
   "source": [
    "Looks like zero shot untuned model is having slighly better performance than our fine tuned model."
   ]
  },
  {
   "cell_type": "code",
   "execution_count": null,
   "metadata": {
    "colab": {
     "base_uri": "https://localhost:8080/"
    },
    "id": "79EsaPZyD4iW",
    "outputId": "3acb4e52-35d3-4b4f-ab89-ead053715c42"
   },
   "outputs": [],
   "source": [
    "result_agg = rouge.compute(predictions = candidate_summaries,\n",
    "                           references = article_summaries[:50], use_stemmer = False)\n",
    "result_agg"
   ]
  },
  {
   "cell_type": "code",
   "execution_count": null,
   "metadata": {
    "id": "u5z4DtSPUo02"
   },
   "outputs": [],
   "source": [
    "result_unagg = rouge.compute(predictions = candidate_summaries, references = article_summaries[:50],\n",
    "                             use_stemmer = True, use_aggregator = False)"
   ]
  },
  {
   "cell_type": "code",
   "execution_count": null,
   "metadata": {
    "colab": {
     "base_uri": "https://localhost:8080/"
    },
    "id": "jgEYET1P9P9G",
    "outputId": "414267ed-9745-41da-acdc-6a32c88b242b"
   },
   "outputs": [],
   "source": [
    "result_unagg_rsum = np.array(result_unagg[\"rougeLsum\"])\n",
    "\n",
    "np.argmax(result_unagg_rsum), np.argmin(result_unagg_rsum)"
   ]
  },
  {
   "cell_type": "markdown",
   "metadata": {
    "id": "DiG0axZm8MUB"
   },
   "source": [
    "Actual vs Predicted summaries dataframe is obtained"
   ]
  },
  {
   "cell_type": "code",
   "execution_count": null,
   "metadata": {
    "colab": {
     "base_uri": "https://localhost:8080/",
     "height": 206
    },
    "id": "3pFyZ9AN77ii",
    "outputId": "85db2e14-c152-4c26-bbad-18a9d90a45bc"
   },
   "outputs": [],
   "source": [
    "act_vs_pred_summaries_df = pd.DataFrame(list(zip(candidate_summaries, article_summaries[:50])),\n",
    "                                        columns = [\"Predicted_Summaries\", \"Reference_summaries\"])\n",
    "act_vs_pred_summaries_df.head()"
   ]
  },
  {
   "cell_type": "markdown",
   "metadata": {
    "id": "7-Ha8rt78a9V"
   },
   "source": [
    "Taking a look at the highest and lowest rouge score case's predicted and reference summaries"
   ]
  },
  {
   "cell_type": "code",
   "execution_count": null,
   "metadata": {
    "colab": {
     "base_uri": "https://localhost:8080/"
    },
    "id": "qArHv6qv8cIk",
    "outputId": "32bda2eb-7206-42b6-94a7-138e7f654be7"
   },
   "outputs": [],
   "source": [
    "print(\"Actual Summary\")\n",
    "print(act_vs_pred_summaries_df._get_value(27, \"Predicted_Summaries\"))\n",
    "\n",
    "print(\"Reference Summary\")\n",
    "print(act_vs_pred_summaries_df._get_value(27, \"Reference_summaries\"))"
   ]
  },
  {
   "cell_type": "code",
   "execution_count": null,
   "metadata": {
    "colab": {
     "base_uri": "https://localhost:8080/"
    },
    "id": "Q1kVczS88jsH",
    "outputId": "c2b25b73-7f64-4047-b937-4d9765555f9e"
   },
   "outputs": [],
   "source": [
    "print(\"Actual Summary\")\n",
    "print(act_vs_pred_summaries_df._get_value(23, \"Predicted_Summaries\"))\n",
    "\n",
    "print(\"Reference Summary\")\n",
    "print(act_vs_pred_summaries_df._get_value(23, \"Reference_summaries\"))"
   ]
  },
  {
   "cell_type": "code",
   "execution_count": null,
   "metadata": {
    "id": "iNtQZBPiDPT-"
   },
   "outputs": [],
   "source": []
  }
 ],
 "metadata": {
  "accelerator": "GPU",
  "colab": {
   "gpuType": "T4",
   "provenance": []
  },
  "kernelspec": {
   "display_name": "Python 3 (ipykernel)",
   "language": "python",
   "name": "python3"
  },
  "language_info": {
   "codemirror_mode": {
    "name": "ipython",
    "version": 3
   },
   "file_extension": ".py",
   "mimetype": "text/x-python",
   "name": "python",
   "nbconvert_exporter": "python",
   "pygments_lexer": "ipython3",
   "version": "3.12.2"
  },
  "widgets": {
   "application/vnd.jupyter.widget-state+json": {
    "016d5e7c4a384ff38b1228e93c382229": {
     "model_module": "@jupyter-widgets/base",
     "model_module_version": "1.2.0",
     "model_name": "LayoutModel",
     "state": {
      "_model_module": "@jupyter-widgets/base",
      "_model_module_version": "1.2.0",
      "_model_name": "LayoutModel",
      "_view_count": null,
      "_view_module": "@jupyter-widgets/base",
      "_view_module_version": "1.2.0",
      "_view_name": "LayoutView",
      "align_content": null,
      "align_items": null,
      "align_self": null,
      "border": null,
      "bottom": null,
      "display": null,
      "flex": null,
      "flex_flow": null,
      "grid_area": null,
      "grid_auto_columns": null,
      "grid_auto_flow": null,
      "grid_auto_rows": null,
      "grid_column": null,
      "grid_gap": null,
      "grid_row": null,
      "grid_template_areas": null,
      "grid_template_columns": null,
      "grid_template_rows": null,
      "height": null,
      "justify_content": null,
      "justify_items": null,
      "left": null,
      "margin": null,
      "max_height": null,
      "max_width": null,
      "min_height": null,
      "min_width": null,
      "object_fit": null,
      "object_position": null,
      "order": null,
      "overflow": null,
      "overflow_x": null,
      "overflow_y": null,
      "padding": null,
      "right": null,
      "top": null,
      "visibility": null,
      "width": null
     }
    },
    "0d0bd6d543ea4f30927493cd327c6c3e": {
     "model_module": "@jupyter-widgets/base",
     "model_module_version": "1.2.0",
     "model_name": "LayoutModel",
     "state": {
      "_model_module": "@jupyter-widgets/base",
      "_model_module_version": "1.2.0",
      "_model_name": "LayoutModel",
      "_view_count": null,
      "_view_module": "@jupyter-widgets/base",
      "_view_module_version": "1.2.0",
      "_view_name": "LayoutView",
      "align_content": null,
      "align_items": null,
      "align_self": null,
      "border": null,
      "bottom": null,
      "display": null,
      "flex": null,
      "flex_flow": null,
      "grid_area": null,
      "grid_auto_columns": null,
      "grid_auto_flow": null,
      "grid_auto_rows": null,
      "grid_column": null,
      "grid_gap": null,
      "grid_row": null,
      "grid_template_areas": null,
      "grid_template_columns": null,
      "grid_template_rows": null,
      "height": null,
      "justify_content": null,
      "justify_items": null,
      "left": null,
      "margin": null,
      "max_height": null,
      "max_width": null,
      "min_height": null,
      "min_width": null,
      "object_fit": null,
      "object_position": null,
      "order": null,
      "overflow": null,
      "overflow_x": null,
      "overflow_y": null,
      "padding": null,
      "right": null,
      "top": null,
      "visibility": null,
      "width": null
     }
    },
    "0dfb0f0fc44e465db5056d00dc6fced3": {
     "model_module": "@jupyter-widgets/base",
     "model_module_version": "1.2.0",
     "model_name": "LayoutModel",
     "state": {
      "_model_module": "@jupyter-widgets/base",
      "_model_module_version": "1.2.0",
      "_model_name": "LayoutModel",
      "_view_count": null,
      "_view_module": "@jupyter-widgets/base",
      "_view_module_version": "1.2.0",
      "_view_name": "LayoutView",
      "align_content": null,
      "align_items": null,
      "align_self": null,
      "border": null,
      "bottom": null,
      "display": null,
      "flex": null,
      "flex_flow": null,
      "grid_area": null,
      "grid_auto_columns": null,
      "grid_auto_flow": null,
      "grid_auto_rows": null,
      "grid_column": null,
      "grid_gap": null,
      "grid_row": null,
      "grid_template_areas": null,
      "grid_template_columns": null,
      "grid_template_rows": null,
      "height": null,
      "justify_content": null,
      "justify_items": null,
      "left": null,
      "margin": null,
      "max_height": null,
      "max_width": null,
      "min_height": null,
      "min_width": null,
      "object_fit": null,
      "object_position": null,
      "order": null,
      "overflow": null,
      "overflow_x": null,
      "overflow_y": null,
      "padding": null,
      "right": null,
      "top": null,
      "visibility": null,
      "width": null
     }
    },
    "0f791c06009a489c8f40e7c33441582f": {
     "model_module": "@jupyter-widgets/controls",
     "model_module_version": "1.5.0",
     "model_name": "DescriptionStyleModel",
     "state": {
      "_model_module": "@jupyter-widgets/controls",
      "_model_module_version": "1.5.0",
      "_model_name": "DescriptionStyleModel",
      "_view_count": null,
      "_view_module": "@jupyter-widgets/base",
      "_view_module_version": "1.2.0",
      "_view_name": "StyleView",
      "description_width": ""
     }
    },
    "10fc9193e7a54a24bb7269721e2dfe0d": {
     "model_module": "@jupyter-widgets/controls",
     "model_module_version": "1.5.0",
     "model_name": "LabelModel",
     "state": {
      "_dom_classes": [],
      "_model_module": "@jupyter-widgets/controls",
      "_model_module_version": "1.5.0",
      "_model_name": "LabelModel",
      "_view_count": null,
      "_view_module": "@jupyter-widgets/controls",
      "_view_module_version": "1.5.0",
      "_view_name": "LabelView",
      "description": "",
      "description_tooltip": null,
      "layout": "IPY_MODEL_87ae2f5de1334a778678c1e77767b2ff",
      "placeholder": "​",
      "style": "IPY_MODEL_f927c1535da0473da9c623de09e46b68",
      "value": "Your token has been saved in your configured git credential helpers (store)."
     }
    },
    "11fa045f55a24c0aa081aad9ee0c0203": {
     "model_module": "@jupyter-widgets/base",
     "model_module_version": "1.2.0",
     "model_name": "LayoutModel",
     "state": {
      "_model_module": "@jupyter-widgets/base",
      "_model_module_version": "1.2.0",
      "_model_name": "LayoutModel",
      "_view_count": null,
      "_view_module": "@jupyter-widgets/base",
      "_view_module_version": "1.2.0",
      "_view_name": "LayoutView",
      "align_content": null,
      "align_items": "center",
      "align_self": null,
      "border": null,
      "bottom": null,
      "display": "flex",
      "flex": null,
      "flex_flow": "column",
      "grid_area": null,
      "grid_auto_columns": null,
      "grid_auto_flow": null,
      "grid_auto_rows": null,
      "grid_column": null,
      "grid_gap": null,
      "grid_row": null,
      "grid_template_areas": null,
      "grid_template_columns": null,
      "grid_template_rows": null,
      "height": null,
      "justify_content": null,
      "justify_items": null,
      "left": null,
      "margin": null,
      "max_height": null,
      "max_width": null,
      "min_height": null,
      "min_width": null,
      "object_fit": null,
      "object_position": null,
      "order": null,
      "overflow": null,
      "overflow_x": null,
      "overflow_y": null,
      "padding": null,
      "right": null,
      "top": null,
      "visibility": null,
      "width": "50%"
     }
    },
    "14682b8e9f4047df88178f7b150274f8": {
     "model_module": "@jupyter-widgets/base",
     "model_module_version": "1.2.0",
     "model_name": "LayoutModel",
     "state": {
      "_model_module": "@jupyter-widgets/base",
      "_model_module_version": "1.2.0",
      "_model_name": "LayoutModel",
      "_view_count": null,
      "_view_module": "@jupyter-widgets/base",
      "_view_module_version": "1.2.0",
      "_view_name": "LayoutView",
      "align_content": null,
      "align_items": null,
      "align_self": null,
      "border": null,
      "bottom": null,
      "display": null,
      "flex": null,
      "flex_flow": null,
      "grid_area": null,
      "grid_auto_columns": null,
      "grid_auto_flow": null,
      "grid_auto_rows": null,
      "grid_column": null,
      "grid_gap": null,
      "grid_row": null,
      "grid_template_areas": null,
      "grid_template_columns": null,
      "grid_template_rows": null,
      "height": null,
      "justify_content": null,
      "justify_items": null,
      "left": null,
      "margin": null,
      "max_height": null,
      "max_width": null,
      "min_height": null,
      "min_width": null,
      "object_fit": null,
      "object_position": null,
      "order": null,
      "overflow": null,
      "overflow_x": null,
      "overflow_y": null,
      "padding": null,
      "right": null,
      "top": null,
      "visibility": null,
      "width": null
     }
    },
    "15d7cf93e6794183ad7e7a95d8442736": {
     "model_module": "@jupyter-widgets/controls",
     "model_module_version": "1.5.0",
     "model_name": "HTMLModel",
     "state": {
      "_dom_classes": [],
      "_model_module": "@jupyter-widgets/controls",
      "_model_module_version": "1.5.0",
      "_model_name": "HTMLModel",
      "_view_count": null,
      "_view_module": "@jupyter-widgets/controls",
      "_view_module_version": "1.5.0",
      "_view_name": "HTMLView",
      "description": "",
      "description_tooltip": null,
      "layout": "IPY_MODEL_e215c03d30da41e886ef960519a4f6ff",
      "placeholder": "​",
      "style": "IPY_MODEL_5c68c79e9320438c8c65f97ed5134ebc",
      "value": "Upload file runs/Aug06_13-13-19_c43c2ceb9006/events.out.tfevents.1691327602.c43c2ceb9006.50464.1: 100%"
     }
    },
    "174c52396fa8449ab4f89844e53caf57": {
     "model_module": "@jupyter-widgets/controls",
     "model_module_version": "1.5.0",
     "model_name": "FloatProgressModel",
     "state": {
      "_dom_classes": [],
      "_model_module": "@jupyter-widgets/controls",
      "_model_module_version": "1.5.0",
      "_model_name": "FloatProgressModel",
      "_view_count": null,
      "_view_module": "@jupyter-widgets/controls",
      "_view_module_version": "1.5.0",
      "_view_name": "ProgressView",
      "bar_style": "success",
      "description": "",
      "description_tooltip": null,
      "layout": "IPY_MODEL_0dfb0f0fc44e465db5056d00dc6fced3",
      "max": 242071641,
      "min": 0,
      "orientation": "horizontal",
      "style": "IPY_MODEL_93e050136f01471d80e113c4e4b1daff",
      "value": 242071641
     }
    },
    "1aedb6e1d75c42acb259baab41521b82": {
     "model_module": "@jupyter-widgets/base",
     "model_module_version": "1.2.0",
     "model_name": "LayoutModel",
     "state": {
      "_model_module": "@jupyter-widgets/base",
      "_model_module_version": "1.2.0",
      "_model_name": "LayoutModel",
      "_view_count": null,
      "_view_module": "@jupyter-widgets/base",
      "_view_module_version": "1.2.0",
      "_view_name": "LayoutView",
      "align_content": null,
      "align_items": null,
      "align_self": null,
      "border": null,
      "bottom": null,
      "display": null,
      "flex": null,
      "flex_flow": null,
      "grid_area": null,
      "grid_auto_columns": null,
      "grid_auto_flow": null,
      "grid_auto_rows": null,
      "grid_column": null,
      "grid_gap": null,
      "grid_row": null,
      "grid_template_areas": null,
      "grid_template_columns": null,
      "grid_template_rows": null,
      "height": null,
      "justify_content": null,
      "justify_items": null,
      "left": null,
      "margin": null,
      "max_height": null,
      "max_width": null,
      "min_height": null,
      "min_width": null,
      "object_fit": null,
      "object_position": null,
      "order": null,
      "overflow": null,
      "overflow_x": null,
      "overflow_y": null,
      "padding": null,
      "right": null,
      "top": null,
      "visibility": null,
      "width": null
     }
    },
    "1eaccae77d91405e994dce9042645501": {
     "model_module": "@jupyter-widgets/base",
     "model_module_version": "1.2.0",
     "model_name": "LayoutModel",
     "state": {
      "_model_module": "@jupyter-widgets/base",
      "_model_module_version": "1.2.0",
      "_model_name": "LayoutModel",
      "_view_count": null,
      "_view_module": "@jupyter-widgets/base",
      "_view_module_version": "1.2.0",
      "_view_name": "LayoutView",
      "align_content": null,
      "align_items": null,
      "align_self": null,
      "border": null,
      "bottom": null,
      "display": null,
      "flex": null,
      "flex_flow": null,
      "grid_area": null,
      "grid_auto_columns": null,
      "grid_auto_flow": null,
      "grid_auto_rows": null,
      "grid_column": null,
      "grid_gap": null,
      "grid_row": null,
      "grid_template_areas": null,
      "grid_template_columns": null,
      "grid_template_rows": null,
      "height": null,
      "justify_content": null,
      "justify_items": null,
      "left": null,
      "margin": null,
      "max_height": null,
      "max_width": null,
      "min_height": null,
      "min_width": null,
      "object_fit": null,
      "object_position": null,
      "order": null,
      "overflow": null,
      "overflow_x": null,
      "overflow_y": null,
      "padding": null,
      "right": null,
      "top": null,
      "visibility": null,
      "width": null
     }
    },
    "1f8a2018f2154bdb99bc0870699bc92b": {
     "model_module": "@jupyter-widgets/controls",
     "model_module_version": "1.5.0",
     "model_name": "DescriptionStyleModel",
     "state": {
      "_model_module": "@jupyter-widgets/controls",
      "_model_module_version": "1.5.0",
      "_model_name": "DescriptionStyleModel",
      "_view_count": null,
      "_view_module": "@jupyter-widgets/base",
      "_view_module_version": "1.2.0",
      "_view_name": "StyleView",
      "description_width": ""
     }
    },
    "2425b1a6f3f84456acf2f57c8f9a263a": {
     "model_module": "@jupyter-widgets/base",
     "model_module_version": "1.2.0",
     "model_name": "LayoutModel",
     "state": {
      "_model_module": "@jupyter-widgets/base",
      "_model_module_version": "1.2.0",
      "_model_name": "LayoutModel",
      "_view_count": null,
      "_view_module": "@jupyter-widgets/base",
      "_view_module_version": "1.2.0",
      "_view_name": "LayoutView",
      "align_content": null,
      "align_items": null,
      "align_self": null,
      "border": null,
      "bottom": null,
      "display": null,
      "flex": null,
      "flex_flow": null,
      "grid_area": null,
      "grid_auto_columns": null,
      "grid_auto_flow": null,
      "grid_auto_rows": null,
      "grid_column": null,
      "grid_gap": null,
      "grid_row": null,
      "grid_template_areas": null,
      "grid_template_columns": null,
      "grid_template_rows": null,
      "height": null,
      "justify_content": null,
      "justify_items": null,
      "left": null,
      "margin": null,
      "max_height": null,
      "max_width": null,
      "min_height": null,
      "min_width": null,
      "object_fit": null,
      "object_position": null,
      "order": null,
      "overflow": null,
      "overflow_x": null,
      "overflow_y": null,
      "padding": null,
      "right": null,
      "top": null,
      "visibility": null,
      "width": null
     }
    },
    "261efa9405cf463492a781c608535a16": {
     "model_module": "@jupyter-widgets/controls",
     "model_module_version": "1.5.0",
     "model_name": "LabelModel",
     "state": {
      "_dom_classes": [],
      "_model_module": "@jupyter-widgets/controls",
      "_model_module_version": "1.5.0",
      "_model_name": "LabelModel",
      "_view_count": null,
      "_view_module": "@jupyter-widgets/controls",
      "_view_module_version": "1.5.0",
      "_view_name": "LabelView",
      "description": "",
      "description_tooltip": null,
      "layout": "IPY_MODEL_b441841d4e8b4b0fae94eedd10bbdb1c",
      "placeholder": "​",
      "style": "IPY_MODEL_9eea6b6d45b8432bb6f2f051d5fa4c84",
      "value": "Login successful"
     }
    },
    "282cb9496b9f4e33a65a80eab0dc65b8": {
     "model_module": "@jupyter-widgets/base",
     "model_module_version": "1.2.0",
     "model_name": "LayoutModel",
     "state": {
      "_model_module": "@jupyter-widgets/base",
      "_model_module_version": "1.2.0",
      "_model_name": "LayoutModel",
      "_view_count": null,
      "_view_module": "@jupyter-widgets/base",
      "_view_module_version": "1.2.0",
      "_view_name": "LayoutView",
      "align_content": null,
      "align_items": null,
      "align_self": null,
      "border": null,
      "bottom": null,
      "display": null,
      "flex": null,
      "flex_flow": null,
      "grid_area": null,
      "grid_auto_columns": null,
      "grid_auto_flow": null,
      "grid_auto_rows": null,
      "grid_column": null,
      "grid_gap": null,
      "grid_row": null,
      "grid_template_areas": null,
      "grid_template_columns": null,
      "grid_template_rows": null,
      "height": null,
      "justify_content": null,
      "justify_items": null,
      "left": null,
      "margin": null,
      "max_height": null,
      "max_width": null,
      "min_height": null,
      "min_width": null,
      "object_fit": null,
      "object_position": null,
      "order": null,
      "overflow": null,
      "overflow_x": null,
      "overflow_y": null,
      "padding": null,
      "right": null,
      "top": null,
      "visibility": null,
      "width": null
     }
    },
    "2d5e5ea1a7634954a023e334a4a7f978": {
     "model_module": "@jupyter-widgets/base",
     "model_module_version": "1.2.0",
     "model_name": "LayoutModel",
     "state": {
      "_model_module": "@jupyter-widgets/base",
      "_model_module_version": "1.2.0",
      "_model_name": "LayoutModel",
      "_view_count": null,
      "_view_module": "@jupyter-widgets/base",
      "_view_module_version": "1.2.0",
      "_view_name": "LayoutView",
      "align_content": null,
      "align_items": null,
      "align_self": null,
      "border": null,
      "bottom": null,
      "display": null,
      "flex": null,
      "flex_flow": null,
      "grid_area": null,
      "grid_auto_columns": null,
      "grid_auto_flow": null,
      "grid_auto_rows": null,
      "grid_column": null,
      "grid_gap": null,
      "grid_row": null,
      "grid_template_areas": null,
      "grid_template_columns": null,
      "grid_template_rows": null,
      "height": null,
      "justify_content": null,
      "justify_items": null,
      "left": null,
      "margin": null,
      "max_height": null,
      "max_width": null,
      "min_height": null,
      "min_width": null,
      "object_fit": null,
      "object_position": null,
      "order": null,
      "overflow": null,
      "overflow_x": null,
      "overflow_y": null,
      "padding": null,
      "right": null,
      "top": null,
      "visibility": null,
      "width": null
     }
    },
    "325002f415ae4f889f4d15ecbbfb9662": {
     "model_module": "@jupyter-widgets/base",
     "model_module_version": "1.2.0",
     "model_name": "LayoutModel",
     "state": {
      "_model_module": "@jupyter-widgets/base",
      "_model_module_version": "1.2.0",
      "_model_name": "LayoutModel",
      "_view_count": null,
      "_view_module": "@jupyter-widgets/base",
      "_view_module_version": "1.2.0",
      "_view_name": "LayoutView",
      "align_content": null,
      "align_items": null,
      "align_self": null,
      "border": null,
      "bottom": null,
      "display": null,
      "flex": null,
      "flex_flow": null,
      "grid_area": null,
      "grid_auto_columns": null,
      "grid_auto_flow": null,
      "grid_auto_rows": null,
      "grid_column": null,
      "grid_gap": null,
      "grid_row": null,
      "grid_template_areas": null,
      "grid_template_columns": null,
      "grid_template_rows": null,
      "height": null,
      "justify_content": null,
      "justify_items": null,
      "left": null,
      "margin": null,
      "max_height": null,
      "max_width": null,
      "min_height": null,
      "min_width": null,
      "object_fit": null,
      "object_position": null,
      "order": null,
      "overflow": null,
      "overflow_x": null,
      "overflow_y": null,
      "padding": null,
      "right": null,
      "top": null,
      "visibility": null,
      "width": null
     }
    },
    "39026abdc1a449da86d9c76c6d31432b": {
     "model_module": "@jupyter-widgets/controls",
     "model_module_version": "1.5.0",
     "model_name": "HBoxModel",
     "state": {
      "_dom_classes": [],
      "_model_module": "@jupyter-widgets/controls",
      "_model_module_version": "1.5.0",
      "_model_name": "HBoxModel",
      "_view_count": null,
      "_view_module": "@jupyter-widgets/controls",
      "_view_module_version": "1.5.0",
      "_view_name": "HBoxView",
      "box_style": "",
      "children": [
       "IPY_MODEL_7d859e043ed04f1da99cb08cbd542f54",
       "IPY_MODEL_174c52396fa8449ab4f89844e53caf57",
       "IPY_MODEL_7080c985675041fabc073ae6996c7ea1"
      ],
      "layout": "IPY_MODEL_016d5e7c4a384ff38b1228e93c382229"
     }
    },
    "3f5fd852a1824d0dbe794edd40cab88d": {
     "model_module": "@jupyter-widgets/controls",
     "model_module_version": "1.5.0",
     "model_name": "LabelModel",
     "state": {
      "_dom_classes": [],
      "_model_module": "@jupyter-widgets/controls",
      "_model_module_version": "1.5.0",
      "_model_name": "LabelModel",
      "_view_count": null,
      "_view_module": "@jupyter-widgets/controls",
      "_view_module_version": "1.5.0",
      "_view_name": "LabelView",
      "description": "",
      "description_tooltip": null,
      "layout": "IPY_MODEL_d996bd3145524ded8b189f3d918d3173",
      "placeholder": "​",
      "style": "IPY_MODEL_5038b99cba7b4bac96c29c1a21eb4724",
      "value": "Token is valid (permission: write)."
     }
    },
    "3f8bff2626e1406a8069f601eabfd1fe": {
     "model_module": "@jupyter-widgets/controls",
     "model_module_version": "1.5.0",
     "model_name": "LabelModel",
     "state": {
      "_dom_classes": [],
      "_model_module": "@jupyter-widgets/controls",
      "_model_module_version": "1.5.0",
      "_model_name": "LabelModel",
      "_view_count": null,
      "_view_module": "@jupyter-widgets/controls",
      "_view_module_version": "1.5.0",
      "_view_name": "LabelView",
      "description": "",
      "description_tooltip": null,
      "layout": "IPY_MODEL_da53691af9564e0ebe53396496debc15",
      "placeholder": "​",
      "style": "IPY_MODEL_9c10f4cfbf0a4e5a822f46f009e1a975",
      "value": "Connecting..."
     }
    },
    "5038b99cba7b4bac96c29c1a21eb4724": {
     "model_module": "@jupyter-widgets/controls",
     "model_module_version": "1.5.0",
     "model_name": "DescriptionStyleModel",
     "state": {
      "_model_module": "@jupyter-widgets/controls",
      "_model_module_version": "1.5.0",
      "_model_name": "DescriptionStyleModel",
      "_view_count": null,
      "_view_module": "@jupyter-widgets/base",
      "_view_module_version": "1.2.0",
      "_view_name": "StyleView",
      "description_width": ""
     }
    },
    "505594ae454f40aca999a1c4268f5754": {
     "model_module": "@jupyter-widgets/controls",
     "model_module_version": "1.5.0",
     "model_name": "ProgressStyleModel",
     "state": {
      "_model_module": "@jupyter-widgets/controls",
      "_model_module_version": "1.5.0",
      "_model_name": "ProgressStyleModel",
      "_view_count": null,
      "_view_module": "@jupyter-widgets/base",
      "_view_module_version": "1.2.0",
      "_view_name": "StyleView",
      "bar_color": null,
      "description_width": ""
     }
    },
    "5c68c79e9320438c8c65f97ed5134ebc": {
     "model_module": "@jupyter-widgets/controls",
     "model_module_version": "1.5.0",
     "model_name": "DescriptionStyleModel",
     "state": {
      "_model_module": "@jupyter-widgets/controls",
      "_model_module_version": "1.5.0",
      "_model_name": "DescriptionStyleModel",
      "_view_count": null,
      "_view_module": "@jupyter-widgets/base",
      "_view_module_version": "1.2.0",
      "_view_name": "StyleView",
      "description_width": ""
     }
    },
    "688b571fbe5f419b82958aba4ce34176": {
     "model_module": "@jupyter-widgets/controls",
     "model_module_version": "1.5.0",
     "model_name": "ButtonStyleModel",
     "state": {
      "_model_module": "@jupyter-widgets/controls",
      "_model_module_version": "1.5.0",
      "_model_name": "ButtonStyleModel",
      "_view_count": null,
      "_view_module": "@jupyter-widgets/base",
      "_view_module_version": "1.2.0",
      "_view_name": "StyleView",
      "button_color": null,
      "font_weight": ""
     }
    },
    "6c7663abdac143fa8ad88831a630ef16": {
     "model_module": "@jupyter-widgets/controls",
     "model_module_version": "1.5.0",
     "model_name": "PasswordModel",
     "state": {
      "_dom_classes": [],
      "_model_module": "@jupyter-widgets/controls",
      "_model_module_version": "1.5.0",
      "_model_name": "PasswordModel",
      "_view_count": null,
      "_view_module": "@jupyter-widgets/controls",
      "_view_module_version": "1.5.0",
      "_view_name": "PasswordView",
      "continuous_update": true,
      "description": "Token:",
      "description_tooltip": null,
      "disabled": false,
      "layout": "IPY_MODEL_2d5e5ea1a7634954a023e334a4a7f978",
      "placeholder": "​",
      "style": "IPY_MODEL_7a92bb19000145aa914b438c73bd34fb",
      "value": ""
     }
    },
    "6f24c13c427046ce81fa8be1342664a1": {
     "model_module": "@jupyter-widgets/controls",
     "model_module_version": "1.5.0",
     "model_name": "VBoxModel",
     "state": {
      "_dom_classes": [],
      "_model_module": "@jupyter-widgets/controls",
      "_model_module_version": "1.5.0",
      "_model_name": "VBoxModel",
      "_view_count": null,
      "_view_module": "@jupyter-widgets/controls",
      "_view_module_version": "1.5.0",
      "_view_name": "VBoxView",
      "box_style": "",
      "children": [
       "IPY_MODEL_3f5fd852a1824d0dbe794edd40cab88d",
       "IPY_MODEL_10fc9193e7a54a24bb7269721e2dfe0d",
       "IPY_MODEL_a139ebe590c14d9d91603812ee1719fb",
       "IPY_MODEL_261efa9405cf463492a781c608535a16"
      ],
      "layout": "IPY_MODEL_11fa045f55a24c0aa081aad9ee0c0203"
     }
    },
    "7080c985675041fabc073ae6996c7ea1": {
     "model_module": "@jupyter-widgets/controls",
     "model_module_version": "1.5.0",
     "model_name": "HTMLModel",
     "state": {
      "_dom_classes": [],
      "_model_module": "@jupyter-widgets/controls",
      "_model_module_version": "1.5.0",
      "_model_name": "HTMLModel",
      "_view_count": null,
      "_view_module": "@jupyter-widgets/controls",
      "_view_module_version": "1.5.0",
      "_view_name": "HTMLView",
      "description": "",
      "description_tooltip": null,
      "layout": "IPY_MODEL_325002f415ae4f889f4d15ecbbfb9662",
      "placeholder": "​",
      "style": "IPY_MODEL_1f8a2018f2154bdb99bc0870699bc92b",
      "value": " 231M/231M [00:06&lt;00:00, 39.0MB/s]"
     }
    },
    "738c85bd54174bb2b85b65482cca1063": {
     "model_module": "@jupyter-widgets/controls",
     "model_module_version": "1.5.0",
     "model_name": "HBoxModel",
     "state": {
      "_dom_classes": [],
      "_model_module": "@jupyter-widgets/controls",
      "_model_module_version": "1.5.0",
      "_model_name": "HBoxModel",
      "_view_count": null,
      "_view_module": "@jupyter-widgets/controls",
      "_view_module_version": "1.5.0",
      "_view_name": "HBoxView",
      "box_style": "",
      "children": [
       "IPY_MODEL_15d7cf93e6794183ad7e7a95d8442736",
       "IPY_MODEL_9ab2b3c11de54fcf87096612abd4b8ea",
       "IPY_MODEL_780455bc02c244dba178bda047bf8c87"
      ],
      "layout": "IPY_MODEL_0d0bd6d543ea4f30927493cd327c6c3e"
     }
    },
    "73e54af058b542d584190d705b74e653": {
     "model_module": "@jupyter-widgets/controls",
     "model_module_version": "1.5.0",
     "model_name": "HBoxModel",
     "state": {
      "_dom_classes": [],
      "_model_module": "@jupyter-widgets/controls",
      "_model_module_version": "1.5.0",
      "_model_name": "HBoxModel",
      "_view_count": null,
      "_view_module": "@jupyter-widgets/controls",
      "_view_module_version": "1.5.0",
      "_view_name": "HBoxView",
      "box_style": "",
      "children": [
       "IPY_MODEL_7acf05d80fd74ed5a7f89a967cd2288c",
       "IPY_MODEL_c1109aa19c4a4ccf97f3ee76c0bdeb84",
       "IPY_MODEL_e1da9bd353dd4d698fc42e6e9668d4d9"
      ],
      "layout": "IPY_MODEL_8c84b05be09b420c998418a41b661a0f"
     }
    },
    "780455bc02c244dba178bda047bf8c87": {
     "model_module": "@jupyter-widgets/controls",
     "model_module_version": "1.5.0",
     "model_name": "HTMLModel",
     "state": {
      "_dom_classes": [],
      "_model_module": "@jupyter-widgets/controls",
      "_model_module_version": "1.5.0",
      "_model_name": "HTMLModel",
      "_view_count": null,
      "_view_module": "@jupyter-widgets/controls",
      "_view_module_version": "1.5.0",
      "_view_name": "HTMLView",
      "description": "",
      "description_tooltip": null,
      "layout": "IPY_MODEL_f6547f288b4143e6a83b4e97d138b6b7",
      "placeholder": "​",
      "style": "IPY_MODEL_e9928402dd7f4308ac30a319e2de1f7b",
      "value": " 7.19k/7.19k [00:06&lt;00:00, 2.65MB/s]"
     }
    },
    "7a92bb19000145aa914b438c73bd34fb": {
     "model_module": "@jupyter-widgets/controls",
     "model_module_version": "1.5.0",
     "model_name": "DescriptionStyleModel",
     "state": {
      "_model_module": "@jupyter-widgets/controls",
      "_model_module_version": "1.5.0",
      "_model_name": "DescriptionStyleModel",
      "_view_count": null,
      "_view_module": "@jupyter-widgets/base",
      "_view_module_version": "1.2.0",
      "_view_name": "StyleView",
      "description_width": ""
     }
    },
    "7acf05d80fd74ed5a7f89a967cd2288c": {
     "model_module": "@jupyter-widgets/controls",
     "model_module_version": "1.5.0",
     "model_name": "HTMLModel",
     "state": {
      "_dom_classes": [],
      "_model_module": "@jupyter-widgets/controls",
      "_model_module_version": "1.5.0",
      "_model_name": "HTMLModel",
      "_view_count": null,
      "_view_module": "@jupyter-widgets/controls",
      "_view_module_version": "1.5.0",
      "_view_name": "HTMLView",
      "description": "",
      "description_tooltip": null,
      "layout": "IPY_MODEL_14682b8e9f4047df88178f7b150274f8",
      "placeholder": "​",
      "style": "IPY_MODEL_ff408c275c6a41369a84a611bd475a1b",
      "value": "Map: 100%"
     }
    },
    "7cd07d2fb63145d6a3a7d6dca812bd1c": {
     "model_module": "@jupyter-widgets/controls",
     "model_module_version": "1.5.0",
     "model_name": "ButtonModel",
     "state": {
      "_dom_classes": [],
      "_model_module": "@jupyter-widgets/controls",
      "_model_module_version": "1.5.0",
      "_model_name": "ButtonModel",
      "_view_count": null,
      "_view_module": "@jupyter-widgets/controls",
      "_view_module_version": "1.5.0",
      "_view_name": "ButtonView",
      "button_style": "",
      "description": "Login",
      "disabled": false,
      "icon": "",
      "layout": "IPY_MODEL_880de9aeaf3848238fa8131402fa5e20",
      "style": "IPY_MODEL_688b571fbe5f419b82958aba4ce34176",
      "tooltip": ""
     }
    },
    "7d859e043ed04f1da99cb08cbd542f54": {
     "model_module": "@jupyter-widgets/controls",
     "model_module_version": "1.5.0",
     "model_name": "HTMLModel",
     "state": {
      "_dom_classes": [],
      "_model_module": "@jupyter-widgets/controls",
      "_model_module_version": "1.5.0",
      "_model_name": "HTMLModel",
      "_view_count": null,
      "_view_module": "@jupyter-widgets/controls",
      "_view_module_version": "1.5.0",
      "_view_name": "HTMLView",
      "description": "",
      "description_tooltip": null,
      "layout": "IPY_MODEL_1eaccae77d91405e994dce9042645501",
      "placeholder": "​",
      "style": "IPY_MODEL_b55aac68703a4781ac48f802f5114fcf",
      "value": "Upload file pytorch_model.bin: 100%"
     }
    },
    "87ae2f5de1334a778678c1e77767b2ff": {
     "model_module": "@jupyter-widgets/base",
     "model_module_version": "1.2.0",
     "model_name": "LayoutModel",
     "state": {
      "_model_module": "@jupyter-widgets/base",
      "_model_module_version": "1.2.0",
      "_model_name": "LayoutModel",
      "_view_count": null,
      "_view_module": "@jupyter-widgets/base",
      "_view_module_version": "1.2.0",
      "_view_name": "LayoutView",
      "align_content": null,
      "align_items": null,
      "align_self": null,
      "border": null,
      "bottom": null,
      "display": null,
      "flex": null,
      "flex_flow": null,
      "grid_area": null,
      "grid_auto_columns": null,
      "grid_auto_flow": null,
      "grid_auto_rows": null,
      "grid_column": null,
      "grid_gap": null,
      "grid_row": null,
      "grid_template_areas": null,
      "grid_template_columns": null,
      "grid_template_rows": null,
      "height": null,
      "justify_content": null,
      "justify_items": null,
      "left": null,
      "margin": null,
      "max_height": null,
      "max_width": null,
      "min_height": null,
      "min_width": null,
      "object_fit": null,
      "object_position": null,
      "order": null,
      "overflow": null,
      "overflow_x": null,
      "overflow_y": null,
      "padding": null,
      "right": null,
      "top": null,
      "visibility": null,
      "width": null
     }
    },
    "880de9aeaf3848238fa8131402fa5e20": {
     "model_module": "@jupyter-widgets/base",
     "model_module_version": "1.2.0",
     "model_name": "LayoutModel",
     "state": {
      "_model_module": "@jupyter-widgets/base",
      "_model_module_version": "1.2.0",
      "_model_name": "LayoutModel",
      "_view_count": null,
      "_view_module": "@jupyter-widgets/base",
      "_view_module_version": "1.2.0",
      "_view_name": "LayoutView",
      "align_content": null,
      "align_items": null,
      "align_self": null,
      "border": null,
      "bottom": null,
      "display": null,
      "flex": null,
      "flex_flow": null,
      "grid_area": null,
      "grid_auto_columns": null,
      "grid_auto_flow": null,
      "grid_auto_rows": null,
      "grid_column": null,
      "grid_gap": null,
      "grid_row": null,
      "grid_template_areas": null,
      "grid_template_columns": null,
      "grid_template_rows": null,
      "height": null,
      "justify_content": null,
      "justify_items": null,
      "left": null,
      "margin": null,
      "max_height": null,
      "max_width": null,
      "min_height": null,
      "min_width": null,
      "object_fit": null,
      "object_position": null,
      "order": null,
      "overflow": null,
      "overflow_x": null,
      "overflow_y": null,
      "padding": null,
      "right": null,
      "top": null,
      "visibility": null,
      "width": null
     }
    },
    "8c84b05be09b420c998418a41b661a0f": {
     "model_module": "@jupyter-widgets/base",
     "model_module_version": "1.2.0",
     "model_name": "LayoutModel",
     "state": {
      "_model_module": "@jupyter-widgets/base",
      "_model_module_version": "1.2.0",
      "_model_name": "LayoutModel",
      "_view_count": null,
      "_view_module": "@jupyter-widgets/base",
      "_view_module_version": "1.2.0",
      "_view_name": "LayoutView",
      "align_content": null,
      "align_items": null,
      "align_self": null,
      "border": null,
      "bottom": null,
      "display": null,
      "flex": null,
      "flex_flow": null,
      "grid_area": null,
      "grid_auto_columns": null,
      "grid_auto_flow": null,
      "grid_auto_rows": null,
      "grid_column": null,
      "grid_gap": null,
      "grid_row": null,
      "grid_template_areas": null,
      "grid_template_columns": null,
      "grid_template_rows": null,
      "height": null,
      "justify_content": null,
      "justify_items": null,
      "left": null,
      "margin": null,
      "max_height": null,
      "max_width": null,
      "min_height": null,
      "min_width": null,
      "object_fit": null,
      "object_position": null,
      "order": null,
      "overflow": null,
      "overflow_x": null,
      "overflow_y": null,
      "padding": null,
      "right": null,
      "top": null,
      "visibility": null,
      "width": null
     }
    },
    "90ccca0eeff44937a4eccdad75dc14d1": {
     "model_module": "@jupyter-widgets/controls",
     "model_module_version": "1.5.0",
     "model_name": "DescriptionStyleModel",
     "state": {
      "_model_module": "@jupyter-widgets/controls",
      "_model_module_version": "1.5.0",
      "_model_name": "DescriptionStyleModel",
      "_view_count": null,
      "_view_module": "@jupyter-widgets/base",
      "_view_module_version": "1.2.0",
      "_view_name": "StyleView",
      "description_width": ""
     }
    },
    "9283d49cda014c1c972368308bd55bb8": {
     "model_module": "@jupyter-widgets/controls",
     "model_module_version": "1.5.0",
     "model_name": "DescriptionStyleModel",
     "state": {
      "_model_module": "@jupyter-widgets/controls",
      "_model_module_version": "1.5.0",
      "_model_name": "DescriptionStyleModel",
      "_view_count": null,
      "_view_module": "@jupyter-widgets/base",
      "_view_module_version": "1.2.0",
      "_view_name": "StyleView",
      "description_width": ""
     }
    },
    "93e050136f01471d80e113c4e4b1daff": {
     "model_module": "@jupyter-widgets/controls",
     "model_module_version": "1.5.0",
     "model_name": "ProgressStyleModel",
     "state": {
      "_model_module": "@jupyter-widgets/controls",
      "_model_module_version": "1.5.0",
      "_model_name": "ProgressStyleModel",
      "_view_count": null,
      "_view_module": "@jupyter-widgets/base",
      "_view_module_version": "1.2.0",
      "_view_name": "StyleView",
      "bar_color": null,
      "description_width": ""
     }
    },
    "9ab2b3c11de54fcf87096612abd4b8ea": {
     "model_module": "@jupyter-widgets/controls",
     "model_module_version": "1.5.0",
     "model_name": "FloatProgressModel",
     "state": {
      "_dom_classes": [],
      "_model_module": "@jupyter-widgets/controls",
      "_model_module_version": "1.5.0",
      "_model_name": "FloatProgressModel",
      "_view_count": null,
      "_view_module": "@jupyter-widgets/controls",
      "_view_module_version": "1.5.0",
      "_view_name": "ProgressView",
      "bar_style": "success",
      "description": "",
      "description_tooltip": null,
      "layout": "IPY_MODEL_1aedb6e1d75c42acb259baab41521b82",
      "max": 7358,
      "min": 0,
      "orientation": "horizontal",
      "style": "IPY_MODEL_ccdca671cd8149db979a04f451c7fa6d",
      "value": 7358
     }
    },
    "9c10f4cfbf0a4e5a822f46f009e1a975": {
     "model_module": "@jupyter-widgets/controls",
     "model_module_version": "1.5.0",
     "model_name": "DescriptionStyleModel",
     "state": {
      "_model_module": "@jupyter-widgets/controls",
      "_model_module_version": "1.5.0",
      "_model_name": "DescriptionStyleModel",
      "_view_count": null,
      "_view_module": "@jupyter-widgets/base",
      "_view_module_version": "1.2.0",
      "_view_name": "StyleView",
      "description_width": ""
     }
    },
    "9eea6b6d45b8432bb6f2f051d5fa4c84": {
     "model_module": "@jupyter-widgets/controls",
     "model_module_version": "1.5.0",
     "model_name": "DescriptionStyleModel",
     "state": {
      "_model_module": "@jupyter-widgets/controls",
      "_model_module_version": "1.5.0",
      "_model_name": "DescriptionStyleModel",
      "_view_count": null,
      "_view_module": "@jupyter-widgets/base",
      "_view_module_version": "1.2.0",
      "_view_name": "StyleView",
      "description_width": ""
     }
    },
    "9f5739adee3c43f482ea5372c37fbc0a": {
     "model_module": "@jupyter-widgets/base",
     "model_module_version": "1.2.0",
     "model_name": "LayoutModel",
     "state": {
      "_model_module": "@jupyter-widgets/base",
      "_model_module_version": "1.2.0",
      "_model_name": "LayoutModel",
      "_view_count": null,
      "_view_module": "@jupyter-widgets/base",
      "_view_module_version": "1.2.0",
      "_view_name": "LayoutView",
      "align_content": null,
      "align_items": null,
      "align_self": null,
      "border": null,
      "bottom": null,
      "display": null,
      "flex": null,
      "flex_flow": null,
      "grid_area": null,
      "grid_auto_columns": null,
      "grid_auto_flow": null,
      "grid_auto_rows": null,
      "grid_column": null,
      "grid_gap": null,
      "grid_row": null,
      "grid_template_areas": null,
      "grid_template_columns": null,
      "grid_template_rows": null,
      "height": null,
      "justify_content": null,
      "justify_items": null,
      "left": null,
      "margin": null,
      "max_height": null,
      "max_width": null,
      "min_height": null,
      "min_width": null,
      "object_fit": null,
      "object_position": null,
      "order": null,
      "overflow": null,
      "overflow_x": null,
      "overflow_y": null,
      "padding": null,
      "right": null,
      "top": null,
      "visibility": null,
      "width": null
     }
    },
    "9ffa53725dfb4bff83eb218b87d461f6": {
     "model_module": "@jupyter-widgets/controls",
     "model_module_version": "1.5.0",
     "model_name": "HTMLModel",
     "state": {
      "_dom_classes": [],
      "_model_module": "@jupyter-widgets/controls",
      "_model_module_version": "1.5.0",
      "_model_name": "HTMLModel",
      "_view_count": null,
      "_view_module": "@jupyter-widgets/controls",
      "_view_module_version": "1.5.0",
      "_view_name": "HTMLView",
      "description": "",
      "description_tooltip": null,
      "layout": "IPY_MODEL_9f5739adee3c43f482ea5372c37fbc0a",
      "placeholder": "​",
      "style": "IPY_MODEL_90ccca0eeff44937a4eccdad75dc14d1",
      "value": "<center> <img\nsrc=https://huggingface.co/front/assets/huggingface_logo-noborder.svg\nalt='Hugging Face'> <br> Copy a token from <a\nhref=\"https://huggingface.co/settings/tokens\" target=\"_blank\">your Hugging Face\ntokens page</a> and paste it below. <br> Immediately click login after copying\nyour token or it might be stored in plain text in this notebook file. </center>"
     }
    },
    "a139ebe590c14d9d91603812ee1719fb": {
     "model_module": "@jupyter-widgets/controls",
     "model_module_version": "1.5.0",
     "model_name": "LabelModel",
     "state": {
      "_dom_classes": [],
      "_model_module": "@jupyter-widgets/controls",
      "_model_module_version": "1.5.0",
      "_model_name": "LabelModel",
      "_view_count": null,
      "_view_module": "@jupyter-widgets/controls",
      "_view_module_version": "1.5.0",
      "_view_name": "LabelView",
      "description": "",
      "description_tooltip": null,
      "layout": "IPY_MODEL_b0574c3cba744e5eae1ae83db0f41bde",
      "placeholder": "​",
      "style": "IPY_MODEL_9283d49cda014c1c972368308bd55bb8",
      "value": "Your token has been saved to /root/.cache/huggingface/token"
     }
    },
    "a2eeb2b3f0094c30b872e6f2e8393c0f": {
     "model_module": "@jupyter-widgets/base",
     "model_module_version": "1.2.0",
     "model_name": "LayoutModel",
     "state": {
      "_model_module": "@jupyter-widgets/base",
      "_model_module_version": "1.2.0",
      "_model_name": "LayoutModel",
      "_view_count": null,
      "_view_module": "@jupyter-widgets/base",
      "_view_module_version": "1.2.0",
      "_view_name": "LayoutView",
      "align_content": null,
      "align_items": null,
      "align_self": null,
      "border": null,
      "bottom": null,
      "display": null,
      "flex": null,
      "flex_flow": null,
      "grid_area": null,
      "grid_auto_columns": null,
      "grid_auto_flow": null,
      "grid_auto_rows": null,
      "grid_column": null,
      "grid_gap": null,
      "grid_row": null,
      "grid_template_areas": null,
      "grid_template_columns": null,
      "grid_template_rows": null,
      "height": null,
      "justify_content": null,
      "justify_items": null,
      "left": null,
      "margin": null,
      "max_height": null,
      "max_width": null,
      "min_height": null,
      "min_width": null,
      "object_fit": null,
      "object_position": null,
      "order": null,
      "overflow": null,
      "overflow_x": null,
      "overflow_y": null,
      "padding": null,
      "right": null,
      "top": null,
      "visibility": null,
      "width": null
     }
    },
    "aca97c621faf439e95d6d9bb4b4abc24": {
     "model_module": "@jupyter-widgets/controls",
     "model_module_version": "1.5.0",
     "model_name": "DescriptionStyleModel",
     "state": {
      "_model_module": "@jupyter-widgets/controls",
      "_model_module_version": "1.5.0",
      "_model_name": "DescriptionStyleModel",
      "_view_count": null,
      "_view_module": "@jupyter-widgets/base",
      "_view_module_version": "1.2.0",
      "_view_name": "StyleView",
      "description_width": ""
     }
    },
    "b0574c3cba744e5eae1ae83db0f41bde": {
     "model_module": "@jupyter-widgets/base",
     "model_module_version": "1.2.0",
     "model_name": "LayoutModel",
     "state": {
      "_model_module": "@jupyter-widgets/base",
      "_model_module_version": "1.2.0",
      "_model_name": "LayoutModel",
      "_view_count": null,
      "_view_module": "@jupyter-widgets/base",
      "_view_module_version": "1.2.0",
      "_view_name": "LayoutView",
      "align_content": null,
      "align_items": null,
      "align_self": null,
      "border": null,
      "bottom": null,
      "display": null,
      "flex": null,
      "flex_flow": null,
      "grid_area": null,
      "grid_auto_columns": null,
      "grid_auto_flow": null,
      "grid_auto_rows": null,
      "grid_column": null,
      "grid_gap": null,
      "grid_row": null,
      "grid_template_areas": null,
      "grid_template_columns": null,
      "grid_template_rows": null,
      "height": null,
      "justify_content": null,
      "justify_items": null,
      "left": null,
      "margin": null,
      "max_height": null,
      "max_width": null,
      "min_height": null,
      "min_width": null,
      "object_fit": null,
      "object_position": null,
      "order": null,
      "overflow": null,
      "overflow_x": null,
      "overflow_y": null,
      "padding": null,
      "right": null,
      "top": null,
      "visibility": null,
      "width": null
     }
    },
    "b441841d4e8b4b0fae94eedd10bbdb1c": {
     "model_module": "@jupyter-widgets/base",
     "model_module_version": "1.2.0",
     "model_name": "LayoutModel",
     "state": {
      "_model_module": "@jupyter-widgets/base",
      "_model_module_version": "1.2.0",
      "_model_name": "LayoutModel",
      "_view_count": null,
      "_view_module": "@jupyter-widgets/base",
      "_view_module_version": "1.2.0",
      "_view_name": "LayoutView",
      "align_content": null,
      "align_items": null,
      "align_self": null,
      "border": null,
      "bottom": null,
      "display": null,
      "flex": null,
      "flex_flow": null,
      "grid_area": null,
      "grid_auto_columns": null,
      "grid_auto_flow": null,
      "grid_auto_rows": null,
      "grid_column": null,
      "grid_gap": null,
      "grid_row": null,
      "grid_template_areas": null,
      "grid_template_columns": null,
      "grid_template_rows": null,
      "height": null,
      "justify_content": null,
      "justify_items": null,
      "left": null,
      "margin": null,
      "max_height": null,
      "max_width": null,
      "min_height": null,
      "min_width": null,
      "object_fit": null,
      "object_position": null,
      "order": null,
      "overflow": null,
      "overflow_x": null,
      "overflow_y": null,
      "padding": null,
      "right": null,
      "top": null,
      "visibility": null,
      "width": null
     }
    },
    "b55aac68703a4781ac48f802f5114fcf": {
     "model_module": "@jupyter-widgets/controls",
     "model_module_version": "1.5.0",
     "model_name": "DescriptionStyleModel",
     "state": {
      "_model_module": "@jupyter-widgets/controls",
      "_model_module_version": "1.5.0",
      "_model_name": "DescriptionStyleModel",
      "_view_count": null,
      "_view_module": "@jupyter-widgets/base",
      "_view_module_version": "1.2.0",
      "_view_name": "StyleView",
      "description_width": ""
     }
    },
    "c1109aa19c4a4ccf97f3ee76c0bdeb84": {
     "model_module": "@jupyter-widgets/controls",
     "model_module_version": "1.5.0",
     "model_name": "FloatProgressModel",
     "state": {
      "_dom_classes": [],
      "_model_module": "@jupyter-widgets/controls",
      "_model_module_version": "1.5.0",
      "_model_name": "FloatProgressModel",
      "_view_count": null,
      "_view_module": "@jupyter-widgets/controls",
      "_view_module_version": "1.5.0",
      "_view_name": "ProgressView",
      "bar_style": "success",
      "description": "",
      "description_tooltip": null,
      "layout": "IPY_MODEL_2425b1a6f3f84456acf2f57c8f9a263a",
      "max": 6890,
      "min": 0,
      "orientation": "horizontal",
      "style": "IPY_MODEL_505594ae454f40aca999a1c4268f5754",
      "value": 6890
     }
    },
    "c26acfececb642c3b20b18588e1e9e98": {
     "model_module": "@jupyter-widgets/controls",
     "model_module_version": "1.5.0",
     "model_name": "HTMLModel",
     "state": {
      "_dom_classes": [],
      "_model_module": "@jupyter-widgets/controls",
      "_model_module_version": "1.5.0",
      "_model_name": "HTMLModel",
      "_view_count": null,
      "_view_module": "@jupyter-widgets/controls",
      "_view_module_version": "1.5.0",
      "_view_name": "HTMLView",
      "description": "",
      "description_tooltip": null,
      "layout": "IPY_MODEL_a2eeb2b3f0094c30b872e6f2e8393c0f",
      "placeholder": "​",
      "style": "IPY_MODEL_aca97c621faf439e95d6d9bb4b4abc24",
      "value": "\n<b>Pro Tip:</b> If you don't already have one, you can create a dedicated\n'notebooks' token with 'write' access, that you can then easily reuse for all\nnotebooks. </center>"
     }
    },
    "c9b069884e05420a8c5e7db7ccc6660a": {
     "model_module": "@jupyter-widgets/base",
     "model_module_version": "1.2.0",
     "model_name": "LayoutModel",
     "state": {
      "_model_module": "@jupyter-widgets/base",
      "_model_module_version": "1.2.0",
      "_model_name": "LayoutModel",
      "_view_count": null,
      "_view_module": "@jupyter-widgets/base",
      "_view_module_version": "1.2.0",
      "_view_name": "LayoutView",
      "align_content": null,
      "align_items": null,
      "align_self": null,
      "border": null,
      "bottom": null,
      "display": null,
      "flex": null,
      "flex_flow": null,
      "grid_area": null,
      "grid_auto_columns": null,
      "grid_auto_flow": null,
      "grid_auto_rows": null,
      "grid_column": null,
      "grid_gap": null,
      "grid_row": null,
      "grid_template_areas": null,
      "grid_template_columns": null,
      "grid_template_rows": null,
      "height": null,
      "justify_content": null,
      "justify_items": null,
      "left": null,
      "margin": null,
      "max_height": null,
      "max_width": null,
      "min_height": null,
      "min_width": null,
      "object_fit": null,
      "object_position": null,
      "order": null,
      "overflow": null,
      "overflow_x": null,
      "overflow_y": null,
      "padding": null,
      "right": null,
      "top": null,
      "visibility": null,
      "width": null
     }
    },
    "ccdca671cd8149db979a04f451c7fa6d": {
     "model_module": "@jupyter-widgets/controls",
     "model_module_version": "1.5.0",
     "model_name": "ProgressStyleModel",
     "state": {
      "_model_module": "@jupyter-widgets/controls",
      "_model_module_version": "1.5.0",
      "_model_name": "ProgressStyleModel",
      "_view_count": null,
      "_view_module": "@jupyter-widgets/base",
      "_view_module_version": "1.2.0",
      "_view_name": "StyleView",
      "bar_color": null,
      "description_width": ""
     }
    },
    "d996bd3145524ded8b189f3d918d3173": {
     "model_module": "@jupyter-widgets/base",
     "model_module_version": "1.2.0",
     "model_name": "LayoutModel",
     "state": {
      "_model_module": "@jupyter-widgets/base",
      "_model_module_version": "1.2.0",
      "_model_name": "LayoutModel",
      "_view_count": null,
      "_view_module": "@jupyter-widgets/base",
      "_view_module_version": "1.2.0",
      "_view_name": "LayoutView",
      "align_content": null,
      "align_items": null,
      "align_self": null,
      "border": null,
      "bottom": null,
      "display": null,
      "flex": null,
      "flex_flow": null,
      "grid_area": null,
      "grid_auto_columns": null,
      "grid_auto_flow": null,
      "grid_auto_rows": null,
      "grid_column": null,
      "grid_gap": null,
      "grid_row": null,
      "grid_template_areas": null,
      "grid_template_columns": null,
      "grid_template_rows": null,
      "height": null,
      "justify_content": null,
      "justify_items": null,
      "left": null,
      "margin": null,
      "max_height": null,
      "max_width": null,
      "min_height": null,
      "min_width": null,
      "object_fit": null,
      "object_position": null,
      "order": null,
      "overflow": null,
      "overflow_x": null,
      "overflow_y": null,
      "padding": null,
      "right": null,
      "top": null,
      "visibility": null,
      "width": null
     }
    },
    "da53691af9564e0ebe53396496debc15": {
     "model_module": "@jupyter-widgets/base",
     "model_module_version": "1.2.0",
     "model_name": "LayoutModel",
     "state": {
      "_model_module": "@jupyter-widgets/base",
      "_model_module_version": "1.2.0",
      "_model_name": "LayoutModel",
      "_view_count": null,
      "_view_module": "@jupyter-widgets/base",
      "_view_module_version": "1.2.0",
      "_view_name": "LayoutView",
      "align_content": null,
      "align_items": null,
      "align_self": null,
      "border": null,
      "bottom": null,
      "display": null,
      "flex": null,
      "flex_flow": null,
      "grid_area": null,
      "grid_auto_columns": null,
      "grid_auto_flow": null,
      "grid_auto_rows": null,
      "grid_column": null,
      "grid_gap": null,
      "grid_row": null,
      "grid_template_areas": null,
      "grid_template_columns": null,
      "grid_template_rows": null,
      "height": null,
      "justify_content": null,
      "justify_items": null,
      "left": null,
      "margin": null,
      "max_height": null,
      "max_width": null,
      "min_height": null,
      "min_width": null,
      "object_fit": null,
      "object_position": null,
      "order": null,
      "overflow": null,
      "overflow_x": null,
      "overflow_y": null,
      "padding": null,
      "right": null,
      "top": null,
      "visibility": null,
      "width": null
     }
    },
    "dfb867662b3245278392077ac8edf794": {
     "model_module": "@jupyter-widgets/controls",
     "model_module_version": "1.5.0",
     "model_name": "DescriptionStyleModel",
     "state": {
      "_model_module": "@jupyter-widgets/controls",
      "_model_module_version": "1.5.0",
      "_model_name": "DescriptionStyleModel",
      "_view_count": null,
      "_view_module": "@jupyter-widgets/base",
      "_view_module_version": "1.2.0",
      "_view_name": "StyleView",
      "description_width": ""
     }
    },
    "e1da9bd353dd4d698fc42e6e9668d4d9": {
     "model_module": "@jupyter-widgets/controls",
     "model_module_version": "1.5.0",
     "model_name": "HTMLModel",
     "state": {
      "_dom_classes": [],
      "_model_module": "@jupyter-widgets/controls",
      "_model_module_version": "1.5.0",
      "_model_name": "HTMLModel",
      "_view_count": null,
      "_view_module": "@jupyter-widgets/controls",
      "_view_module_version": "1.5.0",
      "_view_name": "HTMLView",
      "description": "",
      "description_tooltip": null,
      "layout": "IPY_MODEL_282cb9496b9f4e33a65a80eab0dc65b8",
      "placeholder": "​",
      "style": "IPY_MODEL_0f791c06009a489c8f40e7c33441582f",
      "value": " 6890/6890 [00:25&lt;00:00, 220.47 examples/s]"
     }
    },
    "e215c03d30da41e886ef960519a4f6ff": {
     "model_module": "@jupyter-widgets/base",
     "model_module_version": "1.2.0",
     "model_name": "LayoutModel",
     "state": {
      "_model_module": "@jupyter-widgets/base",
      "_model_module_version": "1.2.0",
      "_model_name": "LayoutModel",
      "_view_count": null,
      "_view_module": "@jupyter-widgets/base",
      "_view_module_version": "1.2.0",
      "_view_name": "LayoutView",
      "align_content": null,
      "align_items": null,
      "align_self": null,
      "border": null,
      "bottom": null,
      "display": null,
      "flex": null,
      "flex_flow": null,
      "grid_area": null,
      "grid_auto_columns": null,
      "grid_auto_flow": null,
      "grid_auto_rows": null,
      "grid_column": null,
      "grid_gap": null,
      "grid_row": null,
      "grid_template_areas": null,
      "grid_template_columns": null,
      "grid_template_rows": null,
      "height": null,
      "justify_content": null,
      "justify_items": null,
      "left": null,
      "margin": null,
      "max_height": null,
      "max_width": null,
      "min_height": null,
      "min_width": null,
      "object_fit": null,
      "object_position": null,
      "order": null,
      "overflow": null,
      "overflow_x": null,
      "overflow_y": null,
      "padding": null,
      "right": null,
      "top": null,
      "visibility": null,
      "width": null
     }
    },
    "e95f003abd2f41e3be0a8584a45c02b4": {
     "model_module": "@jupyter-widgets/controls",
     "model_module_version": "1.5.0",
     "model_name": "CheckboxModel",
     "state": {
      "_dom_classes": [],
      "_model_module": "@jupyter-widgets/controls",
      "_model_module_version": "1.5.0",
      "_model_name": "CheckboxModel",
      "_view_count": null,
      "_view_module": "@jupyter-widgets/controls",
      "_view_module_version": "1.5.0",
      "_view_name": "CheckboxView",
      "description": "Add token as git credential?",
      "description_tooltip": null,
      "disabled": false,
      "indent": true,
      "layout": "IPY_MODEL_c9b069884e05420a8c5e7db7ccc6660a",
      "style": "IPY_MODEL_dfb867662b3245278392077ac8edf794",
      "value": true
     }
    },
    "e9928402dd7f4308ac30a319e2de1f7b": {
     "model_module": "@jupyter-widgets/controls",
     "model_module_version": "1.5.0",
     "model_name": "DescriptionStyleModel",
     "state": {
      "_model_module": "@jupyter-widgets/controls",
      "_model_module_version": "1.5.0",
      "_model_name": "DescriptionStyleModel",
      "_view_count": null,
      "_view_module": "@jupyter-widgets/base",
      "_view_module_version": "1.2.0",
      "_view_name": "StyleView",
      "description_width": ""
     }
    },
    "f6547f288b4143e6a83b4e97d138b6b7": {
     "model_module": "@jupyter-widgets/base",
     "model_module_version": "1.2.0",
     "model_name": "LayoutModel",
     "state": {
      "_model_module": "@jupyter-widgets/base",
      "_model_module_version": "1.2.0",
      "_model_name": "LayoutModel",
      "_view_count": null,
      "_view_module": "@jupyter-widgets/base",
      "_view_module_version": "1.2.0",
      "_view_name": "LayoutView",
      "align_content": null,
      "align_items": null,
      "align_self": null,
      "border": null,
      "bottom": null,
      "display": null,
      "flex": null,
      "flex_flow": null,
      "grid_area": null,
      "grid_auto_columns": null,
      "grid_auto_flow": null,
      "grid_auto_rows": null,
      "grid_column": null,
      "grid_gap": null,
      "grid_row": null,
      "grid_template_areas": null,
      "grid_template_columns": null,
      "grid_template_rows": null,
      "height": null,
      "justify_content": null,
      "justify_items": null,
      "left": null,
      "margin": null,
      "max_height": null,
      "max_width": null,
      "min_height": null,
      "min_width": null,
      "object_fit": null,
      "object_position": null,
      "order": null,
      "overflow": null,
      "overflow_x": null,
      "overflow_y": null,
      "padding": null,
      "right": null,
      "top": null,
      "visibility": null,
      "width": null
     }
    },
    "f927c1535da0473da9c623de09e46b68": {
     "model_module": "@jupyter-widgets/controls",
     "model_module_version": "1.5.0",
     "model_name": "DescriptionStyleModel",
     "state": {
      "_model_module": "@jupyter-widgets/controls",
      "_model_module_version": "1.5.0",
      "_model_name": "DescriptionStyleModel",
      "_view_count": null,
      "_view_module": "@jupyter-widgets/base",
      "_view_module_version": "1.2.0",
      "_view_name": "StyleView",
      "description_width": ""
     }
    },
    "ff408c275c6a41369a84a611bd475a1b": {
     "model_module": "@jupyter-widgets/controls",
     "model_module_version": "1.5.0",
     "model_name": "DescriptionStyleModel",
     "state": {
      "_model_module": "@jupyter-widgets/controls",
      "_model_module_version": "1.5.0",
      "_model_name": "DescriptionStyleModel",
      "_view_count": null,
      "_view_module": "@jupyter-widgets/base",
      "_view_module_version": "1.2.0",
      "_view_name": "StyleView",
      "description_width": ""
     }
    }
   }
  }
 },
 "nbformat": 4,
 "nbformat_minor": 4
}
